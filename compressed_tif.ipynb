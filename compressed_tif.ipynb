{
 "cells": [
  {
   "cell_type": "code",
   "execution_count": 10,
   "metadata": {},
   "outputs": [
    {
     "ename": "SyntaxError",
     "evalue": "invalid syntax (3953640199.py, line 1)",
     "output_type": "error",
     "traceback": [
      "\u001b[1;36m  File \u001b[1;32m\"C:\\Users\\bilge\\AppData\\Local\\Temp\\ipykernel_9584\\3953640199.py\"\u001b[1;36m, line \u001b[1;32m1\u001b[0m\n\u001b[1;33m    pip install gdal\u001b[0m\n\u001b[1;37m              ^\u001b[0m\n\u001b[1;31mSyntaxError\u001b[0m\u001b[1;31m:\u001b[0m invalid syntax\n"
     ]
    }
   ],
   "source": [
    "pip install gdal\n",
    "\n"
   ]
  },
  {
   "cell_type": "code",
   "execution_count": 8,
   "metadata": {},
   "outputs": [
    {
     "ename": "ModuleNotFoundError",
     "evalue": "No module named 'osgeo'",
     "output_type": "error",
     "traceback": [
      "\u001b[1;31m---------------------------------------------------------------------------\u001b[0m",
      "\u001b[1;31mModuleNotFoundError\u001b[0m                       Traceback (most recent call last)",
      "\u001b[1;32m~\\AppData\\Local\\Temp\\ipykernel_9584\\494110415.py\u001b[0m in \u001b[0;36m<module>\u001b[1;34m\u001b[0m\n\u001b[0;32m      2\u001b[0m \u001b[1;33m\u001b[0m\u001b[0m\n\u001b[0;32m      3\u001b[0m \u001b[1;31m# Import der erforderlichen Bibliothek\u001b[0m\u001b[1;33m\u001b[0m\u001b[1;33m\u001b[0m\u001b[1;33m\u001b[0m\u001b[0m\n\u001b[1;32m----> 4\u001b[1;33m \u001b[1;32mfrom\u001b[0m \u001b[0mosgeo\u001b[0m \u001b[1;32mimport\u001b[0m \u001b[0mgdal\u001b[0m\u001b[1;33m\u001b[0m\u001b[1;33m\u001b[0m\u001b[0m\n\u001b[0m\u001b[0;32m      5\u001b[0m \u001b[1;33m\u001b[0m\u001b[0m\n\u001b[0;32m      6\u001b[0m \u001b[1;31m# Eingabe- und Ausgabedateien definieren\u001b[0m\u001b[1;33m\u001b[0m\u001b[1;33m\u001b[0m\u001b[1;33m\u001b[0m\u001b[0m\n",
      "\u001b[1;31mModuleNotFoundError\u001b[0m: No module named 'osgeo'"
     ]
    }
   ],
   "source": [
    "### Komprimierung von GeoTIFF-Dateien mit GDAL\n",
    "\n",
    "# Import der erforderlichen Bibliothek\n",
    "from osgeo import gdal\n",
    "\n",
    "# Eingabe- und Ausgabedateien definieren\n",
    "input_file = \"input.tif\"  # Pfad zur Originaldatei\n",
    "output_file = \"output_compressed.tif\"  # Pfad zur komprimierten Datei\n",
    "\n",
    "# GeoTIFF öffnen\n",
    "try:\n",
    "    dataset = gdal.Open(input_file, gdal.GA_ReadOnly)\n",
    "    if dataset is None:\n",
    "        raise FileNotFoundError(f\"Die Eingabedatei '{input_file}' konnte nicht geöffnet werden.\")\n",
    "except Exception as e:\n",
    "    print(f\"Fehler beim Öffnen der Datei: {e}\")\n",
    "    raise\n",
    "\n",
    "# Optionen für die Komprimierung einstellen\n",
    "compress_options = [\n",
    "    \"TILED=YES\",          # Aktiviert Kachelmodus für bessere Zugriffsgeschwindigkeit\n",
    "    \"COMPRESS=LZW\",       # Setzt die Komprimierungsmethode (LZW in diesem Beispiel)\n",
    "    \"PREDICTOR=2\"         # Optimiert Komprimierung bei kontinuierlichen Daten (z.B. DEMs)\n",
    "]\n",
    "\n",
    "# GeoTIFF in eine komprimierte Version umwandeln\n",
    "try:\n",
    "    driver = gdal.GetDriverByName(\"GTiff\")\n",
    "    if driver is None:\n",
    "        raise RuntimeError(\"GTiff-Treiber konnte nicht gefunden werden.\")\n",
    "\n",
    "    driver.CreateCopy(\n",
    "        output_file,       # Zielpfad\n",
    "        dataset,           # Originaldaten\n",
    "        options=compress_options  # Komprimierungsoptionen\n",
    "    )\n",
    "    print(f\"Die komprimierte Datei wurde erfolgreich erstellt: {output_file}\")\n",
    "\n",
    "except Exception as e:\n",
    "    print(f\"Fehler bei der Erstellung der komprimierten Datei: {e}\")\n",
    "    raise\n",
    "\n",
    "# Daten schließen\n",
    "dataset = None\n"
   ]
  },
  {
   "cell_type": "code",
   "execution_count": null,
   "metadata": {},
   "outputs": [],
   "source": []
  }
 ],
 "metadata": {
  "kernelspec": {
   "display_name": "myenv",
   "language": "python",
   "name": "python3"
  },
  "language_info": {
   "codemirror_mode": {
    "name": "ipython",
    "version": 3
   },
   "file_extension": ".py",
   "mimetype": "text/x-python",
   "name": "python",
   "nbconvert_exporter": "python",
   "pygments_lexer": "ipython3",
   "version": "3.7.3"
  }
 },
 "nbformat": 4,
 "nbformat_minor": 2
}
