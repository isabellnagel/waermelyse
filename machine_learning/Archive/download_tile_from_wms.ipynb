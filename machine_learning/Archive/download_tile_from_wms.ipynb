{
 "cells": [
  {
   "cell_type": "code",
   "execution_count": null,
   "metadata": {},
   "outputs": [],
   "source": [
    "# Import der notwendigen Bibliotheken\n",
    "from owslib.wms import WebMapService\n",
    "import os"
   ]
  },
  {
   "cell_type": "markdown",
   "metadata": {},
   "source": [
    "## Python Code zur Nutzung des WMS-Servers\n",
    "\n",
    "In dem folgenden Abschnitt wird der Web Map Service (WMS) von Bremen verwendet, um Karten- und Geodaten zu laden und anzuzeigen. Der Code stellt eine Verbindung zum WMS-Server her, listet verfügbare Layer auf und ruft Informationen zu einem bestimmten Layer ab."
   ]
  },
  {
   "cell_type": "code",
   "execution_count": null,
   "metadata": {},
   "outputs": [],
   "source": [
    "# WMS-URL: Die URL, die den Web Map Service des WMS-Servers angibt.\n",
    "wms_url = \"https://geodienste.bremen.de/wms_dop10_2023?language=ger\"\n",
    "\n",
    "# Verbindung zum Server herstellen\n",
    "wms = WebMapService(wms_url)\n",
    "\n",
    "# Verfügbare Layer anzeigen\n",
    "# Der WMS-Server enthält eine Reihe von Karten-Layern, die wir durchlaufen und ausgeben können.\n",
    "# In diesem Fall listen wir die Namen der Layer und deren Titel auf.\n",
    "for layer in wms.contents:\n",
    "    print(layer, wms[layer].title)\n",
    "\n",
    "# Informationen über einen bestimmten Layer abrufen\n",
    "# In diesem Schritt wählen wir einen bestimmten Layer (DOP10_2023_HB) aus und holen uns seine Metadaten.\n",
    "layer_name = \"DOP10_2023_HB\"\n",
    "layer_info = wms[layer_name]\n",
    "# Bounding Box des Layers: Hier erhalten wir die geographischen Grenzen (Eckkoordinaten) des Layers.\n",
    "print(\"Bounding Box Layer:\", layer_info.boundingBox)\n",
    "# Unterstützte CRS (Koordinatenreferenzsysteme): Der WMS-Server kann verschiedene Koordinatensysteme unterstützen. \n",
    "# Wir listen die unterstützten CRS für den ausgewählten Layer auf.\n",
    "print(\"Supported CRS:\", layer_info.crsOptions)"
   ]
  },
  {
   "cell_type": "markdown",
   "metadata": {},
   "source": [
    "## Funktion zum Herunterladen eines Bildes vom WMS-Server\n",
    "\n",
    "In dieser Funktion wird ein Bild von einem WMS-Server heruntergeladen. Die Funktion verwendet die `getmap`-Methode des WMS-Servers, um das Bild in einem gewünschten Format und einer gewünschten Größe abzurufen und es auf der Festplatte zu speichern."
   ]
  },
  {
   "cell_type": "code",
   "execution_count": null,
   "metadata": {},
   "outputs": [],
   "source": [
    "def download_image(wms, layer, bbox, size, format, filename):\n",
    "    response = wms.getmap(layers=[layer],   # Wählen des Layers, das heruntergeladen werden soll\n",
    "                          styles=[''],      # Stil für das Layer (leer bedeutet standardmäßig)\n",
    "                          srs='EPSG:25832', # Koordinatenreferenzsystem\n",
    "                          bbox=bbox,        # Geographische Begrenzung (Bounding Box) des Bildes\n",
    "                          size=size,        # Größe des Bildes in Pixeln (Breite, Höhe)\n",
    "                          format=format,    # Format des heruntergeladenen Bildes (z.B. 'image/png')\n",
    "                          transparent=True) # Option für transparente Hintergründe (True oder False)\n",
    "    \n",
    "    with open(filename, 'wb') as out:\n",
    "        out.write(response.read())\n",
    "    print(f\"{filename} erfolgreich heruntergeladen.\")"
   ]
  },
  {
   "cell_type": "markdown",
   "metadata": {},
   "source": [
    "## Python-Code zum Herunterladen von Kartenbildern von einem WMS-Server\n",
    "\n",
    "Dieser Code zeigt, wie man mit einem WMS-Server Bilder für ein gesamtes Gebiet oder in kleineren Kacheln herunterladen kann. Die Kacheln sind nützlich, um große Karten in handlichere Teile zu unterteilen, die leichter verarbeitet oder angezeigt werden können."
   ]
  },
  {
   "cell_type": "code",
   "execution_count": null,
   "metadata": {},
   "outputs": [],
   "source": [
    "# WMS-Server-URL\n",
    "url = \"https://geodienste.bremen.de/wms_dop10_2023\"\n",
    "\n",
    "# Verbindung zum WMS-Server herstellen\n",
    "wms = WebMapService(url, version='1.3.0')\n",
    "\n",
    "# Layer auswählen\n",
    "layer = 'DOP10_2023_HB'\n",
    "\n",
    "# Bounding Box definieren (minx, miny, maxx, maxy)\n",
    "# Diese Werte geben die geographischen Grenzen des Gebiets an, für das  Kartenbilder heruntergeladen werden sollen.\n",
    "bbox = (488608.7545, 5881989.4935, 490215.9319, 5883625.7616)\n",
    "\n",
    "# Verzeichnis für die Ausgabe erstellen\n",
    "output_dir = \"wms_output\"\n",
    "os.makedirs(output_dir, exist_ok=True)\n",
    "\n",
    "# Gesamtes Gebiet herunterladen\n",
    "# Hier wird ein vollständiges Bild des angegebenen Gebiets heruntergeladen. Die Größe der Datei kann angepasst werden.\n",
    "full_size = (14276, 14276) # Maximale Bildgröße des Servers: 14276x14276 Pixel\n",
    "download_image(wms, layer, bbox, full_size, 'image/tiff', f\"{output_dir}/full_area_tiff.tiff\")\n",
    "download_image(wms, layer, bbox, full_size, 'image/png', f\"{output_dir}/full_area_png.png\")\n",
    "\n",
    "# Kacheln herunterladen\n",
    "# Unterteilung des Gebiets in kleinere Kacheln, die einzeln heruntergeladen werden.\n",
    "tile_size = 5000 # Maximale Bildgröße des Servers: 14276x14276 Pixel\n",
    "num_tiles_x = 3\n",
    "num_tiles_y = 3\n",
    "\n",
    "tile_width = (bbox[2] - bbox[0]) / num_tiles_x\n",
    "tile_height = (bbox[3] - bbox[1]) / num_tiles_y\n",
    "\n",
    "for i in range(num_tiles_y):\n",
    "    for j in range(num_tiles_x):\n",
    "        tile_bbox = (\n",
    "            bbox[0] + j * tile_width,\n",
    "            bbox[1] + i * tile_height,\n",
    "            bbox[0] + (j + 1) * tile_width,\n",
    "            bbox[1] + (i + 1) * tile_height\n",
    "        )\n",
    "        \n",
    "        tile_filename = f\"tile_{int(tile_bbox[0])}_{int(tile_bbox[1])}\"\n",
    "        download_image(wms, layer, tile_bbox, (tile_size, tile_size), 'image/tiff', f\"{output_dir}/{tile_filename}_tiff.tiff\")\n",
    "        download_image(wms, layer, tile_bbox, (tile_size, tile_size), 'image/png', f\"{output_dir}/{tile_filename}_png.png\")\n",
    "\n",
    "print(\"Alle Bilder wurden erfolgreich heruntergeladen.\")"
   ]
  }
 ],
 "metadata": {
  "kernelspec": {
   "display_name": "hsb",
   "language": "python",
   "name": "python3"
  },
  "language_info": {
   "codemirror_mode": {
    "name": "ipython",
    "version": 3
   },
   "file_extension": ".py",
   "mimetype": "text/x-python",
   "name": "python",
   "nbconvert_exporter": "python",
   "pygments_lexer": "ipython3",
   "version": "3.9.18"
  }
 },
 "nbformat": 4,
 "nbformat_minor": 2
}
