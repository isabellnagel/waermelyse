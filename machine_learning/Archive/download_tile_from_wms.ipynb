{
 "cells": [
  {
   "cell_type": "code",
   "execution_count": 2,
   "metadata": {},
   "outputs": [],
   "source": [
    "# Import der notwendigen Bibliotheken\n",
    "from owslib.wms import WebMapService\n",
    "import os"
   ]
  },
  {
   "cell_type": "markdown",
   "metadata": {},
   "source": [
    "## Python Code zur Nutzung des WMS-Servers\n",
    "\n",
    "In dem folgenden Abschnitt wird der Web Map Service (WMS) von Bremen verwendet, um Karten- und Geodaten zu laden und anzuzeigen. Der Code stellt eine Verbindung zum WMS-Server her, listet verfügbare Layer auf und ruft Informationen zu einem bestimmten Layer ab."
   ]
  },
  {
   "cell_type": "code",
   "execution_count": 3,
   "metadata": {},
   "outputs": [
    {
     "name": "stdout",
     "output_type": "stream",
     "text": [
      "DOP10 2023 Land Bremen DOP10 2023 Land Bremen\n",
      "DOP10_2023_HB DOP10 2023 Bremen\n",
      "DOP10_2023_BHV DOP10 2023 Bremerhaven\n",
      "Bounding Box Layer: (463942.0, 5873090.0, 500928.0, 5898080.0, 'EPSG:25832')\n",
      "Supported CRS: ['EPSG:25832', 'EPSG:4258', 'EPSG:4326', 'EPSG:3857', 'EPSG:25833', 'CRS:84', 'EPSG:31467', 'EPSG:3044']\n"
     ]
    }
   ],
   "source": [
    "# WMS-URL: Die URL, die den Web Map Service des WMS-Servers angibt.\n",
    "wms_url = \"https://geodienste.bremen.de/wms_dop10_2023?language=ger\"\n",
    "\n",
    "# Verbindung zum Server herstellen\n",
    "wms = WebMapService(wms_url)\n",
    "\n",
    "# Verfügbare Layer anzeigen\n",
    "# Der WMS-Server enthält eine Reihe von Karten-Layern, die wir durchlaufen und ausgeben können.\n",
    "# In diesem Fall listen wir die Namen der Layer und deren Titel auf.\n",
    "for layer in wms.contents:\n",
    "    print(layer, wms[layer].title)\n",
    "\n",
    "# Informationen über einen bestimmten Layer abrufen\n",
    "# In diesem Schritt wählen wir einen bestimmten Layer (DOP10_2023_HB) aus und holen uns seine Metadaten.\n",
    "layer_name = \"DOP10_2023_HB\"\n",
    "layer_info = wms[layer_name]\n",
    "# Bounding Box des Layers: Hier erhalten wir die geographischen Grenzen (Eckkoordinaten) des Layers.\n",
    "print(\"Bounding Box Layer:\", layer_info.boundingBox)\n",
    "# Unterstützte CRS (Koordinatenreferenzsysteme): Der WMS-Server kann verschiedene Koordinatensysteme unterstützen. \n",
    "# Wir listen die unterstützten CRS für den ausgewählten Layer auf.\n",
    "print(\"Supported CRS:\", layer_info.crsOptions)"
   ]
  },
  {
   "cell_type": "markdown",
   "metadata": {},
   "source": [
    "## Funktion zum Herunterladen eines Bildes vom WMS-Server\n",
    "\n",
    "In dieser Funktion wird ein Bild von einem WMS-Server heruntergeladen. Die Funktion verwendet die `getmap`-Methode des WMS-Servers, um das Bild in einem gewünschten Format und einer gewünschten Größe abzurufen und es auf der Festplatte zu speichern."
   ]
  },
  {
   "cell_type": "code",
   "execution_count": 4,
   "metadata": {},
   "outputs": [],
   "source": [
    "def download_image(wms, layer, bbox, size, format, filename):\n",
    "    response = wms.getmap(layers=[layer],   # Wählen des Layers, das heruntergeladen werden soll\n",
    "                          styles=[''],      # Stil für das Layer (leer bedeutet standardmäßig)\n",
    "                          srs='EPSG:25832', # Koordinatenreferenzsystem\n",
    "                          bbox=bbox,        # Geographische Begrenzung (Bounding Box) des Bildes\n",
    "                          size=size,        # Größe des Bildes in Pixeln (Breite, Höhe)\n",
    "                          format=format,    # Format des heruntergeladenen Bildes (z.B. 'image/png')\n",
    "                          transparent=True) # Option für transparente Hintergründe (True oder False)\n",
    "    \n",
    "    with open(filename, 'wb') as out:\n",
    "        out.write(response.read())\n",
    "    print(f\"{filename} erfolgreich heruntergeladen.\")"
   ]
  },
  {
   "cell_type": "markdown",
   "metadata": {},
   "source": [
    "## Python-Code zum Herunterladen von Kartenbildern von einem WMS-Server\n",
    "\n",
    "Dieser Code zeigt, wie man mit einem WMS-Server Bilder für ein gesamtes Gebiet oder in kleineren Kacheln herunterladen kann. Die Kacheln sind nützlich, um große Karten in handlichere Teile zu unterteilen, die leichter verarbeitet oder angezeigt werden können."
   ]
  },
  {
   "cell_type": "code",
   "execution_count": 14,
   "metadata": {},
   "outputs": [
    {
     "name": "stdout",
     "output_type": "stream",
     "text": [
      "wms_output/tile_0_0_tiff.tiff erfolgreich heruntergeladen.\n",
      "wms_output/tile_0_0_jpg.jpg erfolgreich heruntergeladen.\n",
      "wms_output/tile_0_1_tiff.tiff erfolgreich heruntergeladen.\n",
      "wms_output/tile_0_1_jpg.jpg erfolgreich heruntergeladen.\n",
      "wms_output/tile_1_0_tiff.tiff erfolgreich heruntergeladen.\n",
      "wms_output/tile_1_0_jpg.jpg erfolgreich heruntergeladen.\n",
      "wms_output/tile_1_1_tiff.tiff erfolgreich heruntergeladen.\n",
      "wms_output/tile_1_1_jpg.jpg erfolgreich heruntergeladen.\n",
      "Alle 256x256 Bilder wurden erfolgreich heruntergeladen.\n"
     ]
    }
   ],
   "source": [
    "# WMS-Server-URL\n",
    "url = \"https://geodienste.bremen.de/wms_dop10_2023\"\n",
    "\n",
    "# Verbindung zum WMS-Server herstellen\n",
    "wms = WebMapService(url, version='1.3.0')\n",
    "\n",
    "# Layer auswählen\n",
    "layer = 'DOP10_2023_HB'\n",
    "\n",
    "# Bounding Box definieren (minx, miny, maxx, maxy)\n",
    "# Diese Werte geben die geographischen Grenzen des Gebiets an, für das Kartenbilder heruntergeladen werden sollen.\n",
    "bbox = (488608.7545, 5881989.4935, 490215.9319, 5883625.7616)\n",
    "\n",
    "# Verzeichnis für die Ausgabe erstellen\n",
    "output_dir = \"wms_output\"\n",
    "os.makedirs(output_dir, exist_ok=True)\n",
    "\n",
    "# Die gewünschte Bildgröße (256x256 Pixel)\n",
    "tile_size = 1024  # Pixel\n",
    "\n",
    "# Berechnen der Anzahl der Kacheln, basierend auf der Größe der Bounding Box und der Tilegröße\n",
    "tile_width = bbox[2] - bbox[0]\n",
    "tile_height = bbox[3] - bbox[1]\n",
    "\n",
    "# Berechnen, wie viele Tiles in horizontaler und vertikaler Richtung benötigt werden\n",
    "num_tiles_x = int(tile_width // tile_size) + (1 if tile_width % tile_size != 0 else 0)\n",
    "num_tiles_y = int(tile_height // tile_size) + (1 if tile_height % tile_size != 0 else 0)\n",
    "\n",
    "# Für jede Kachel herunterladen\n",
    "for i in range(num_tiles_y):\n",
    "    for j in range(num_tiles_x):\n",
    "        # Berechnen Sie die Bounding Box für jede Kachel\n",
    "        tile_bbox = (\n",
    "            bbox[0] + j * tile_size,\n",
    "            bbox[1] + i * tile_size,\n",
    "            bbox[0] + (j + 1) * tile_size,\n",
    "            bbox[1] + (i + 1) * tile_size\n",
    "        )\n",
    "\n",
    "        # Sicherstellen, dass die letzte Kachel in der X- und Y-Richtung nicht über den BBox hinausgeht\n",
    "        if tile_bbox[2] > bbox[2]:\n",
    "            tile_bbox = (tile_bbox[0], tile_bbox[1], bbox[2], tile_bbox[3])\n",
    "        if tile_bbox[3] > bbox[3]:\n",
    "            tile_bbox = (tile_bbox[0], tile_bbox[1], tile_bbox[2], bbox[3])\n",
    "\n",
    "        # Den Dateinamen für die Kachel erstellen\n",
    "        tile_filename = f\"tile_{i}_{j}\"\n",
    "\n",
    "        # Downloaden Sie das Bild im gewünschten Format (z.B. TIFF und PNG)\n",
    "        download_image(wms, layer, tile_bbox, (tile_size, tile_size), 'image/tiff', f\"{output_dir}/{tile_filename}_tiff.tiff\")\n",
    "        download_image(wms, layer, tile_bbox, (tile_size, tile_size), 'image/jpeg', f\"{output_dir}/{tile_filename}_jpg.jpg\")\n",
    "\n",
    "print(\"Alle 256x256 Bilder wurden erfolgreich heruntergeladen.\")"
   ]
  },
  {
   "cell_type": "code",
   "execution_count": 21,
   "metadata": {},
   "outputs": [
    {
     "name": "stdout",
     "output_type": "stream",
     "text": [
      "wms_output/tile_488608_5881989_highres.jpg erfolgreich heruntergeladen.\n",
      "wms_output/tile_488640_5881989_highres.jpg erfolgreich heruntergeladen.\n",
      "wms_output/tile_488673_5881989_highres.jpg erfolgreich heruntergeladen.\n",
      "wms_output/tile_488705_5881989_highres.jpg erfolgreich heruntergeladen.\n",
      "wms_output/tile_488737_5881989_highres.jpg erfolgreich heruntergeladen.\n",
      "wms_output/tile_488769_5881989_highres.jpg erfolgreich heruntergeladen.\n",
      "wms_output/tile_488801_5881989_highres.jpg erfolgreich heruntergeladen.\n",
      "wms_output/tile_488833_5881989_highres.jpg erfolgreich heruntergeladen.\n",
      "wms_output/tile_488865_5881989_highres.jpg erfolgreich heruntergeladen.\n",
      "wms_output/tile_488898_5881989_highres.jpg erfolgreich heruntergeladen.\n",
      "wms_output/tile_488930_5881989_highres.jpg erfolgreich heruntergeladen.\n",
      "wms_output/tile_488962_5881989_highres.jpg erfolgreich heruntergeladen.\n",
      "wms_output/tile_488994_5881989_highres.jpg erfolgreich heruntergeladen.\n",
      "wms_output/tile_489026_5881989_highres.jpg erfolgreich heruntergeladen.\n",
      "wms_output/tile_489058_5881989_highres.jpg erfolgreich heruntergeladen.\n",
      "wms_output/tile_489090_5881989_highres.jpg erfolgreich heruntergeladen.\n",
      "wms_output/tile_489123_5881989_highres.jpg erfolgreich heruntergeladen.\n",
      "wms_output/tile_489155_5881989_highres.jpg erfolgreich heruntergeladen.\n",
      "wms_output/tile_489187_5881989_highres.jpg erfolgreich heruntergeladen.\n",
      "wms_output/tile_489219_5881989_highres.jpg erfolgreich heruntergeladen.\n",
      "wms_output/tile_489251_5881989_highres.jpg erfolgreich heruntergeladen.\n",
      "wms_output/tile_489283_5881989_highres.jpg erfolgreich heruntergeladen.\n",
      "wms_output/tile_489315_5881989_highres.jpg erfolgreich heruntergeladen.\n",
      "wms_output/tile_489348_5881989_highres.jpg erfolgreich heruntergeladen.\n",
      "wms_output/tile_489380_5881989_highres.jpg erfolgreich heruntergeladen.\n",
      "wms_output/tile_489412_5881989_highres.jpg erfolgreich heruntergeladen.\n",
      "wms_output/tile_489444_5881989_highres.jpg erfolgreich heruntergeladen.\n",
      "wms_output/tile_489476_5881989_highres.jpg erfolgreich heruntergeladen.\n",
      "wms_output/tile_489508_5881989_highres.jpg erfolgreich heruntergeladen.\n",
      "wms_output/tile_489540_5881989_highres.jpg erfolgreich heruntergeladen.\n",
      "wms_output/tile_489573_5881989_highres.jpg erfolgreich heruntergeladen.\n",
      "wms_output/tile_489605_5881989_highres.jpg erfolgreich heruntergeladen.\n",
      "wms_output/tile_489637_5881989_highres.jpg erfolgreich heruntergeladen.\n",
      "wms_output/tile_489669_5881989_highres.jpg erfolgreich heruntergeladen.\n",
      "wms_output/tile_489701_5881989_highres.jpg erfolgreich heruntergeladen.\n",
      "wms_output/tile_489733_5881989_highres.jpg erfolgreich heruntergeladen.\n",
      "wms_output/tile_489765_5881989_highres.jpg erfolgreich heruntergeladen.\n",
      "wms_output/tile_489798_5881989_highres.jpg erfolgreich heruntergeladen.\n",
      "wms_output/tile_489830_5881989_highres.jpg erfolgreich heruntergeladen.\n",
      "wms_output/tile_489862_5881989_highres.jpg erfolgreich heruntergeladen.\n",
      "wms_output/tile_489894_5881989_highres.jpg erfolgreich heruntergeladen.\n",
      "wms_output/tile_489926_5881989_highres.jpg erfolgreich heruntergeladen.\n"
     ]
    },
    {
     "ename": "KeyboardInterrupt",
     "evalue": "",
     "output_type": "error",
     "traceback": [
      "\u001b[1;31m---------------------------------------------------------------------------\u001b[0m",
      "\u001b[1;31mKeyboardInterrupt\u001b[0m                         Traceback (most recent call last)",
      "Cell \u001b[1;32mIn[21], line 51\u001b[0m\n\u001b[0;32m     48\u001b[0m         tile_filename \u001b[38;5;241m=\u001b[39m \u001b[38;5;124mf\u001b[39m\u001b[38;5;124m\"\u001b[39m\u001b[38;5;124mtile_\u001b[39m\u001b[38;5;132;01m{\u001b[39;00m\u001b[38;5;28mint\u001b[39m(tile_bbox[\u001b[38;5;241m0\u001b[39m])\u001b[38;5;132;01m}\u001b[39;00m\u001b[38;5;124m_\u001b[39m\u001b[38;5;132;01m{\u001b[39;00m\u001b[38;5;28mint\u001b[39m(tile_bbox[\u001b[38;5;241m1\u001b[39m])\u001b[38;5;132;01m}\u001b[39;00m\u001b[38;5;124m\"\u001b[39m\n\u001b[0;32m     50\u001b[0m         \u001b[38;5;66;03m# Now, download the tile with higher resolution (we specify WIDTH and HEIGHT in the WMS request)\u001b[39;00m\n\u001b[1;32m---> 51\u001b[0m         \u001b[43mdownload_image\u001b[49m\u001b[43m(\u001b[49m\u001b[43mwms\u001b[49m\u001b[43m,\u001b[49m\u001b[43m \u001b[49m\u001b[43mlayer\u001b[49m\u001b[43m,\u001b[49m\u001b[43m \u001b[49m\u001b[43mtile_bbox\u001b[49m\u001b[43m,\u001b[49m\u001b[43m \u001b[49m\u001b[43m(\u001b[49m\u001b[43mresolution\u001b[49m\u001b[43m,\u001b[49m\u001b[43m \u001b[49m\u001b[43mresolution\u001b[49m\u001b[43m)\u001b[49m\u001b[43m,\u001b[49m\u001b[43m \u001b[49m\u001b[38;5;124;43m'\u001b[39;49m\u001b[38;5;124;43mimage/jpeg\u001b[39;49m\u001b[38;5;124;43m'\u001b[39;49m\u001b[43m,\u001b[49m\u001b[43m \u001b[49m\u001b[38;5;124;43mf\u001b[39;49m\u001b[38;5;124;43m\"\u001b[39;49m\u001b[38;5;132;43;01m{\u001b[39;49;00m\u001b[43moutput_dir\u001b[49m\u001b[38;5;132;43;01m}\u001b[39;49;00m\u001b[38;5;124;43m/\u001b[39;49m\u001b[38;5;132;43;01m{\u001b[39;49;00m\u001b[43mtile_filename\u001b[49m\u001b[38;5;132;43;01m}\u001b[39;49;00m\u001b[38;5;124;43m_highres.jpg\u001b[39;49m\u001b[38;5;124;43m\"\u001b[39;49m\u001b[43m)\u001b[49m\n\u001b[0;32m     53\u001b[0m \u001b[38;5;28mprint\u001b[39m(\u001b[38;5;124m\"\u001b[39m\u001b[38;5;124mAlle Bilder wurden erfolgreich heruntergeladen.\u001b[39m\u001b[38;5;124m\"\u001b[39m)\n",
      "Cell \u001b[1;32mIn[4], line 2\u001b[0m, in \u001b[0;36mdownload_image\u001b[1;34m(wms, layer, bbox, size, format, filename)\u001b[0m\n\u001b[0;32m      1\u001b[0m \u001b[38;5;28;01mdef\u001b[39;00m \u001b[38;5;21mdownload_image\u001b[39m(wms, layer, bbox, size, \u001b[38;5;28mformat\u001b[39m, filename):\n\u001b[1;32m----> 2\u001b[0m     response \u001b[38;5;241m=\u001b[39m \u001b[43mwms\u001b[49m\u001b[38;5;241;43m.\u001b[39;49m\u001b[43mgetmap\u001b[49m\u001b[43m(\u001b[49m\u001b[43mlayers\u001b[49m\u001b[38;5;241;43m=\u001b[39;49m\u001b[43m[\u001b[49m\u001b[43mlayer\u001b[49m\u001b[43m]\u001b[49m\u001b[43m,\u001b[49m\u001b[43m   \u001b[49m\u001b[38;5;66;43;03m# Wählen des Layers, das heruntergeladen werden soll\u001b[39;49;00m\n\u001b[0;32m      3\u001b[0m \u001b[43m                          \u001b[49m\u001b[43mstyles\u001b[49m\u001b[38;5;241;43m=\u001b[39;49m\u001b[43m[\u001b[49m\u001b[38;5;124;43m'\u001b[39;49m\u001b[38;5;124;43m'\u001b[39;49m\u001b[43m]\u001b[49m\u001b[43m,\u001b[49m\u001b[43m      \u001b[49m\u001b[38;5;66;43;03m# Stil für das Layer (leer bedeutet standardmäßig)\u001b[39;49;00m\n\u001b[0;32m      4\u001b[0m \u001b[43m                          \u001b[49m\u001b[43msrs\u001b[49m\u001b[38;5;241;43m=\u001b[39;49m\u001b[38;5;124;43m'\u001b[39;49m\u001b[38;5;124;43mEPSG:25832\u001b[39;49m\u001b[38;5;124;43m'\u001b[39;49m\u001b[43m,\u001b[49m\u001b[43m \u001b[49m\u001b[38;5;66;43;03m# Koordinatenreferenzsystem\u001b[39;49;00m\n\u001b[0;32m      5\u001b[0m \u001b[43m                          \u001b[49m\u001b[43mbbox\u001b[49m\u001b[38;5;241;43m=\u001b[39;49m\u001b[43mbbox\u001b[49m\u001b[43m,\u001b[49m\u001b[43m        \u001b[49m\u001b[38;5;66;43;03m# Geographische Begrenzung (Bounding Box) des Bildes\u001b[39;49;00m\n\u001b[0;32m      6\u001b[0m \u001b[43m                          \u001b[49m\u001b[43msize\u001b[49m\u001b[38;5;241;43m=\u001b[39;49m\u001b[43msize\u001b[49m\u001b[43m,\u001b[49m\u001b[43m        \u001b[49m\u001b[38;5;66;43;03m# Größe des Bildes in Pixeln (Breite, Höhe)\u001b[39;49;00m\n\u001b[0;32m      7\u001b[0m \u001b[43m                          \u001b[49m\u001b[38;5;28;43mformat\u001b[39;49m\u001b[38;5;241;43m=\u001b[39;49m\u001b[38;5;28;43mformat\u001b[39;49m\u001b[43m,\u001b[49m\u001b[43m    \u001b[49m\u001b[38;5;66;43;03m# Format des heruntergeladenen Bildes (z.B. 'image/png')\u001b[39;49;00m\n\u001b[0;32m      8\u001b[0m \u001b[43m                          \u001b[49m\u001b[43mtransparent\u001b[49m\u001b[38;5;241;43m=\u001b[39;49m\u001b[38;5;28;43;01mTrue\u001b[39;49;00m\u001b[43m)\u001b[49m \u001b[38;5;66;03m# Option für transparente Hintergründe (True oder False)\u001b[39;00m\n\u001b[0;32m     10\u001b[0m     \u001b[38;5;28;01mwith\u001b[39;00m \u001b[38;5;28mopen\u001b[39m(filename, \u001b[38;5;124m'\u001b[39m\u001b[38;5;124mwb\u001b[39m\u001b[38;5;124m'\u001b[39m) \u001b[38;5;28;01mas\u001b[39;00m out:\n\u001b[0;32m     11\u001b[0m         out\u001b[38;5;241m.\u001b[39mwrite(response\u001b[38;5;241m.\u001b[39mread())\n",
      "File \u001b[1;32mc:\\Users\\Isabell\\master_projekt\\waermelyse\\.venv311\\Lib\\site-packages\\owslib\\map\\wms130.py:309\u001b[0m, in \u001b[0;36mWebMapService_1_3_0.getmap\u001b[1;34m(self, layers, styles, srs, bbox, format, size, time, elevation, dimensions, transparent, bgcolor, exceptions, method, timeout, **kwargs)\u001b[0m\n\u001b[0;32m    305\u001b[0m data \u001b[38;5;241m=\u001b[39m urlencode(request)\n\u001b[0;32m    307\u001b[0m \u001b[38;5;28mself\u001b[39m\u001b[38;5;241m.\u001b[39mrequest \u001b[38;5;241m=\u001b[39m bind_url(base_url) \u001b[38;5;241m+\u001b[39m data\n\u001b[1;32m--> 309\u001b[0m u \u001b[38;5;241m=\u001b[39m \u001b[43mopenURL\u001b[49m\u001b[43m(\u001b[49m\u001b[43mbase_url\u001b[49m\u001b[43m,\u001b[49m\u001b[43m \u001b[49m\u001b[43mdata\u001b[49m\u001b[43m,\u001b[49m\u001b[43m \u001b[49m\u001b[43mmethod\u001b[49m\u001b[43m,\u001b[49m\u001b[43m \u001b[49m\u001b[43mtimeout\u001b[49m\u001b[38;5;241;43m=\u001b[39;49m\u001b[43mtimeout\u001b[49m\u001b[43m \u001b[49m\u001b[38;5;129;43;01mor\u001b[39;49;00m\u001b[43m \u001b[49m\u001b[38;5;28;43mself\u001b[39;49m\u001b[38;5;241;43m.\u001b[39;49m\u001b[43mtimeout\u001b[49m\u001b[43m,\u001b[49m\u001b[43m \u001b[49m\u001b[43mauth\u001b[49m\u001b[38;5;241;43m=\u001b[39;49m\u001b[38;5;28;43mself\u001b[39;49m\u001b[38;5;241;43m.\u001b[39;49m\u001b[43mauth\u001b[49m\u001b[43m,\u001b[49m\u001b[43m \u001b[49m\u001b[43mheaders\u001b[49m\u001b[38;5;241;43m=\u001b[39;49m\u001b[38;5;28;43mself\u001b[39;49m\u001b[38;5;241;43m.\u001b[39;49m\u001b[43mheaders\u001b[49m\u001b[43m)\u001b[49m\n\u001b[0;32m    311\u001b[0m \u001b[38;5;66;03m# need to handle casing in the header keys\u001b[39;00m\n\u001b[0;32m    312\u001b[0m headers \u001b[38;5;241m=\u001b[39m {}\n",
      "File \u001b[1;32mc:\\Users\\Isabell\\master_projekt\\waermelyse\\.venv311\\Lib\\site-packages\\owslib\\util.py:207\u001b[0m, in \u001b[0;36mopenURL\u001b[1;34m(url_base, data, method, cookies, username, password, timeout, headers, verify, cert, auth)\u001b[0m\n\u001b[0;32m    204\u001b[0m \u001b[38;5;28;01mif\u001b[39;00m cookies \u001b[38;5;129;01mis\u001b[39;00m \u001b[38;5;129;01mnot\u001b[39;00m \u001b[38;5;28;01mNone\u001b[39;00m:\n\u001b[0;32m    205\u001b[0m     rkwargs[\u001b[38;5;124m'\u001b[39m\u001b[38;5;124mcookies\u001b[39m\u001b[38;5;124m'\u001b[39m] \u001b[38;5;241m=\u001b[39m cookies\n\u001b[1;32m--> 207\u001b[0m req \u001b[38;5;241m=\u001b[39m \u001b[43mrequests\u001b[49m\u001b[38;5;241;43m.\u001b[39;49m\u001b[43mrequest\u001b[49m\u001b[43m(\u001b[49m\u001b[43mmethod\u001b[49m\u001b[38;5;241;43m.\u001b[39;49m\u001b[43mupper\u001b[49m\u001b[43m(\u001b[49m\u001b[43m)\u001b[49m\u001b[43m,\u001b[49m\u001b[43m \u001b[49m\u001b[43murl_base\u001b[49m\u001b[43m,\u001b[49m\u001b[43m \u001b[49m\u001b[43mheaders\u001b[49m\u001b[38;5;241;43m=\u001b[39;49m\u001b[43mheaders\u001b[49m\u001b[43m,\u001b[49m\u001b[43m \u001b[49m\u001b[38;5;241;43m*\u001b[39;49m\u001b[38;5;241;43m*\u001b[39;49m\u001b[43mrkwargs\u001b[49m\u001b[43m)\u001b[49m\n\u001b[0;32m    209\u001b[0m \u001b[38;5;28;01mif\u001b[39;00m req\u001b[38;5;241m.\u001b[39mstatus_code \u001b[38;5;129;01min\u001b[39;00m [\u001b[38;5;241m400\u001b[39m, \u001b[38;5;241m401\u001b[39m]:\n\u001b[0;32m    210\u001b[0m     \u001b[38;5;28;01mraise\u001b[39;00m ServiceException(req\u001b[38;5;241m.\u001b[39mtext)\n",
      "File \u001b[1;32mc:\\Users\\Isabell\\master_projekt\\waermelyse\\.venv311\\Lib\\site-packages\\requests\\api.py:59\u001b[0m, in \u001b[0;36mrequest\u001b[1;34m(method, url, **kwargs)\u001b[0m\n\u001b[0;32m     55\u001b[0m \u001b[38;5;66;03m# By using the 'with' statement we are sure the session is closed, thus we\u001b[39;00m\n\u001b[0;32m     56\u001b[0m \u001b[38;5;66;03m# avoid leaving sockets open which can trigger a ResourceWarning in some\u001b[39;00m\n\u001b[0;32m     57\u001b[0m \u001b[38;5;66;03m# cases, and look like a memory leak in others.\u001b[39;00m\n\u001b[0;32m     58\u001b[0m \u001b[38;5;28;01mwith\u001b[39;00m sessions\u001b[38;5;241m.\u001b[39mSession() \u001b[38;5;28;01mas\u001b[39;00m session:\n\u001b[1;32m---> 59\u001b[0m     \u001b[38;5;28;01mreturn\u001b[39;00m \u001b[43msession\u001b[49m\u001b[38;5;241;43m.\u001b[39;49m\u001b[43mrequest\u001b[49m\u001b[43m(\u001b[49m\u001b[43mmethod\u001b[49m\u001b[38;5;241;43m=\u001b[39;49m\u001b[43mmethod\u001b[49m\u001b[43m,\u001b[49m\u001b[43m \u001b[49m\u001b[43murl\u001b[49m\u001b[38;5;241;43m=\u001b[39;49m\u001b[43murl\u001b[49m\u001b[43m,\u001b[49m\u001b[43m \u001b[49m\u001b[38;5;241;43m*\u001b[39;49m\u001b[38;5;241;43m*\u001b[39;49m\u001b[43mkwargs\u001b[49m\u001b[43m)\u001b[49m\n",
      "File \u001b[1;32mc:\\Users\\Isabell\\master_projekt\\waermelyse\\.venv311\\Lib\\site-packages\\requests\\sessions.py:589\u001b[0m, in \u001b[0;36mSession.request\u001b[1;34m(self, method, url, params, data, headers, cookies, files, auth, timeout, allow_redirects, proxies, hooks, stream, verify, cert, json)\u001b[0m\n\u001b[0;32m    584\u001b[0m send_kwargs \u001b[38;5;241m=\u001b[39m {\n\u001b[0;32m    585\u001b[0m     \u001b[38;5;124m\"\u001b[39m\u001b[38;5;124mtimeout\u001b[39m\u001b[38;5;124m\"\u001b[39m: timeout,\n\u001b[0;32m    586\u001b[0m     \u001b[38;5;124m\"\u001b[39m\u001b[38;5;124mallow_redirects\u001b[39m\u001b[38;5;124m\"\u001b[39m: allow_redirects,\n\u001b[0;32m    587\u001b[0m }\n\u001b[0;32m    588\u001b[0m send_kwargs\u001b[38;5;241m.\u001b[39mupdate(settings)\n\u001b[1;32m--> 589\u001b[0m resp \u001b[38;5;241m=\u001b[39m \u001b[38;5;28;43mself\u001b[39;49m\u001b[38;5;241;43m.\u001b[39;49m\u001b[43msend\u001b[49m\u001b[43m(\u001b[49m\u001b[43mprep\u001b[49m\u001b[43m,\u001b[49m\u001b[43m \u001b[49m\u001b[38;5;241;43m*\u001b[39;49m\u001b[38;5;241;43m*\u001b[39;49m\u001b[43msend_kwargs\u001b[49m\u001b[43m)\u001b[49m\n\u001b[0;32m    591\u001b[0m \u001b[38;5;28;01mreturn\u001b[39;00m resp\n",
      "File \u001b[1;32mc:\\Users\\Isabell\\master_projekt\\waermelyse\\.venv311\\Lib\\site-packages\\requests\\sessions.py:746\u001b[0m, in \u001b[0;36mSession.send\u001b[1;34m(self, request, **kwargs)\u001b[0m\n\u001b[0;32m    743\u001b[0m         \u001b[38;5;28;01mpass\u001b[39;00m\n\u001b[0;32m    745\u001b[0m \u001b[38;5;28;01mif\u001b[39;00m \u001b[38;5;129;01mnot\u001b[39;00m stream:\n\u001b[1;32m--> 746\u001b[0m     \u001b[43mr\u001b[49m\u001b[38;5;241;43m.\u001b[39;49m\u001b[43mcontent\u001b[49m\n\u001b[0;32m    748\u001b[0m \u001b[38;5;28;01mreturn\u001b[39;00m r\n",
      "File \u001b[1;32mc:\\Users\\Isabell\\master_projekt\\waermelyse\\.venv311\\Lib\\site-packages\\requests\\models.py:902\u001b[0m, in \u001b[0;36mResponse.content\u001b[1;34m(self)\u001b[0m\n\u001b[0;32m    900\u001b[0m         \u001b[38;5;28mself\u001b[39m\u001b[38;5;241m.\u001b[39m_content \u001b[38;5;241m=\u001b[39m \u001b[38;5;28;01mNone\u001b[39;00m\n\u001b[0;32m    901\u001b[0m     \u001b[38;5;28;01melse\u001b[39;00m:\n\u001b[1;32m--> 902\u001b[0m         \u001b[38;5;28mself\u001b[39m\u001b[38;5;241m.\u001b[39m_content \u001b[38;5;241m=\u001b[39m \u001b[38;5;124mb\u001b[39m\u001b[38;5;124m\"\u001b[39m\u001b[38;5;124m\"\u001b[39m\u001b[38;5;241m.\u001b[39mjoin(\u001b[38;5;28mself\u001b[39m\u001b[38;5;241m.\u001b[39miter_content(CONTENT_CHUNK_SIZE)) \u001b[38;5;129;01mor\u001b[39;00m \u001b[38;5;124mb\u001b[39m\u001b[38;5;124m\"\u001b[39m\u001b[38;5;124m\"\u001b[39m\n\u001b[0;32m    904\u001b[0m \u001b[38;5;28mself\u001b[39m\u001b[38;5;241m.\u001b[39m_content_consumed \u001b[38;5;241m=\u001b[39m \u001b[38;5;28;01mTrue\u001b[39;00m\n\u001b[0;32m    905\u001b[0m \u001b[38;5;66;03m# don't need to release the connection; that's been handled by urllib3\u001b[39;00m\n\u001b[0;32m    906\u001b[0m \u001b[38;5;66;03m# since we exhausted the data.\u001b[39;00m\n",
      "File \u001b[1;32mc:\\Users\\Isabell\\master_projekt\\waermelyse\\.venv311\\Lib\\site-packages\\requests\\models.py:820\u001b[0m, in \u001b[0;36mResponse.iter_content.<locals>.generate\u001b[1;34m()\u001b[0m\n\u001b[0;32m    818\u001b[0m \u001b[38;5;28;01mif\u001b[39;00m \u001b[38;5;28mhasattr\u001b[39m(\u001b[38;5;28mself\u001b[39m\u001b[38;5;241m.\u001b[39mraw, \u001b[38;5;124m\"\u001b[39m\u001b[38;5;124mstream\u001b[39m\u001b[38;5;124m\"\u001b[39m):\n\u001b[0;32m    819\u001b[0m     \u001b[38;5;28;01mtry\u001b[39;00m:\n\u001b[1;32m--> 820\u001b[0m         \u001b[38;5;28;01myield from\u001b[39;00m \u001b[38;5;28mself\u001b[39m\u001b[38;5;241m.\u001b[39mraw\u001b[38;5;241m.\u001b[39mstream(chunk_size, decode_content\u001b[38;5;241m=\u001b[39m\u001b[38;5;28;01mTrue\u001b[39;00m)\n\u001b[0;32m    821\u001b[0m     \u001b[38;5;28;01mexcept\u001b[39;00m ProtocolError \u001b[38;5;28;01mas\u001b[39;00m e:\n\u001b[0;32m    822\u001b[0m         \u001b[38;5;28;01mraise\u001b[39;00m ChunkedEncodingError(e)\n",
      "File \u001b[1;32mc:\\Users\\Isabell\\master_projekt\\waermelyse\\.venv311\\Lib\\site-packages\\urllib3\\response.py:1057\u001b[0m, in \u001b[0;36mHTTPResponse.stream\u001b[1;34m(self, amt, decode_content)\u001b[0m\n\u001b[0;32m   1041\u001b[0m \u001b[38;5;250m\u001b[39m\u001b[38;5;124;03m\"\"\"\u001b[39;00m\n\u001b[0;32m   1042\u001b[0m \u001b[38;5;124;03mA generator wrapper for the read() method. A call will block until\u001b[39;00m\n\u001b[0;32m   1043\u001b[0m \u001b[38;5;124;03m``amt`` bytes have been read from the connection or until the\u001b[39;00m\n\u001b[1;32m   (...)\u001b[0m\n\u001b[0;32m   1054\u001b[0m \u001b[38;5;124;03m    'content-encoding' header.\u001b[39;00m\n\u001b[0;32m   1055\u001b[0m \u001b[38;5;124;03m\"\"\"\u001b[39;00m\n\u001b[0;32m   1056\u001b[0m \u001b[38;5;28;01mif\u001b[39;00m \u001b[38;5;28mself\u001b[39m\u001b[38;5;241m.\u001b[39mchunked \u001b[38;5;129;01mand\u001b[39;00m \u001b[38;5;28mself\u001b[39m\u001b[38;5;241m.\u001b[39msupports_chunked_reads():\n\u001b[1;32m-> 1057\u001b[0m     \u001b[38;5;28;01myield from\u001b[39;00m \u001b[38;5;28mself\u001b[39m\u001b[38;5;241m.\u001b[39mread_chunked(amt, decode_content\u001b[38;5;241m=\u001b[39mdecode_content)\n\u001b[0;32m   1058\u001b[0m \u001b[38;5;28;01melse\u001b[39;00m:\n\u001b[0;32m   1059\u001b[0m     \u001b[38;5;28;01mwhile\u001b[39;00m \u001b[38;5;129;01mnot\u001b[39;00m is_fp_closed(\u001b[38;5;28mself\u001b[39m\u001b[38;5;241m.\u001b[39m_fp) \u001b[38;5;129;01mor\u001b[39;00m \u001b[38;5;28mlen\u001b[39m(\u001b[38;5;28mself\u001b[39m\u001b[38;5;241m.\u001b[39m_decoded_buffer) \u001b[38;5;241m>\u001b[39m \u001b[38;5;241m0\u001b[39m:\n",
      "File \u001b[1;32mc:\\Users\\Isabell\\master_projekt\\waermelyse\\.venv311\\Lib\\site-packages\\urllib3\\response.py:1209\u001b[0m, in \u001b[0;36mHTTPResponse.read_chunked\u001b[1;34m(self, amt, decode_content)\u001b[0m\n\u001b[0;32m   1207\u001b[0m \u001b[38;5;28;01mif\u001b[39;00m \u001b[38;5;28mself\u001b[39m\u001b[38;5;241m.\u001b[39mchunk_left \u001b[38;5;241m==\u001b[39m \u001b[38;5;241m0\u001b[39m:\n\u001b[0;32m   1208\u001b[0m     \u001b[38;5;28;01mbreak\u001b[39;00m\n\u001b[1;32m-> 1209\u001b[0m chunk \u001b[38;5;241m=\u001b[39m \u001b[38;5;28;43mself\u001b[39;49m\u001b[38;5;241;43m.\u001b[39;49m\u001b[43m_handle_chunk\u001b[49m\u001b[43m(\u001b[49m\u001b[43mamt\u001b[49m\u001b[43m)\u001b[49m\n\u001b[0;32m   1210\u001b[0m decoded \u001b[38;5;241m=\u001b[39m \u001b[38;5;28mself\u001b[39m\u001b[38;5;241m.\u001b[39m_decode(\n\u001b[0;32m   1211\u001b[0m     chunk, decode_content\u001b[38;5;241m=\u001b[39mdecode_content, flush_decoder\u001b[38;5;241m=\u001b[39m\u001b[38;5;28;01mFalse\u001b[39;00m\n\u001b[0;32m   1212\u001b[0m )\n\u001b[0;32m   1213\u001b[0m \u001b[38;5;28;01mif\u001b[39;00m decoded:\n",
      "File \u001b[1;32mc:\\Users\\Isabell\\master_projekt\\waermelyse\\.venv311\\Lib\\site-packages\\urllib3\\response.py:1155\u001b[0m, in \u001b[0;36mHTTPResponse._handle_chunk\u001b[1;34m(self, amt)\u001b[0m\n\u001b[0;32m   1153\u001b[0m     returned_chunk \u001b[38;5;241m=\u001b[39m value\n\u001b[0;32m   1154\u001b[0m \u001b[38;5;28;01melse\u001b[39;00m:  \u001b[38;5;66;03m# amt > self.chunk_left\u001b[39;00m\n\u001b[1;32m-> 1155\u001b[0m     returned_chunk \u001b[38;5;241m=\u001b[39m \u001b[38;5;28;43mself\u001b[39;49m\u001b[38;5;241;43m.\u001b[39;49m\u001b[43m_fp\u001b[49m\u001b[38;5;241;43m.\u001b[39;49m\u001b[43m_safe_read\u001b[49m\u001b[43m(\u001b[49m\u001b[38;5;28;43mself\u001b[39;49m\u001b[38;5;241;43m.\u001b[39;49m\u001b[43mchunk_left\u001b[49m\u001b[43m)\u001b[49m  \u001b[38;5;66;03m# type: ignore[union-attr]\u001b[39;00m\n\u001b[0;32m   1156\u001b[0m     \u001b[38;5;28mself\u001b[39m\u001b[38;5;241m.\u001b[39m_fp\u001b[38;5;241m.\u001b[39m_safe_read(\u001b[38;5;241m2\u001b[39m)  \u001b[38;5;66;03m# type: ignore[union-attr] # Toss the CRLF at the end of the chunk.\u001b[39;00m\n\u001b[0;32m   1157\u001b[0m     \u001b[38;5;28mself\u001b[39m\u001b[38;5;241m.\u001b[39mchunk_left \u001b[38;5;241m=\u001b[39m \u001b[38;5;28;01mNone\u001b[39;00m\n",
      "File \u001b[1;32m~\\AppData\\Local\\Programs\\Python\\Python311\\Lib\\http\\client.py:630\u001b[0m, in \u001b[0;36mHTTPResponse._safe_read\u001b[1;34m(self, amt)\u001b[0m\n\u001b[0;32m    623\u001b[0m \u001b[38;5;28;01mdef\u001b[39;00m \u001b[38;5;21m_safe_read\u001b[39m(\u001b[38;5;28mself\u001b[39m, amt):\n\u001b[0;32m    624\u001b[0m \u001b[38;5;250m    \u001b[39m\u001b[38;5;124;03m\"\"\"Read the number of bytes requested.\u001b[39;00m\n\u001b[0;32m    625\u001b[0m \n\u001b[0;32m    626\u001b[0m \u001b[38;5;124;03m    This function should be used when <amt> bytes \"should\" be present for\u001b[39;00m\n\u001b[0;32m    627\u001b[0m \u001b[38;5;124;03m    reading. If the bytes are truly not available (due to EOF), then the\u001b[39;00m\n\u001b[0;32m    628\u001b[0m \u001b[38;5;124;03m    IncompleteRead exception can be used to detect the problem.\u001b[39;00m\n\u001b[0;32m    629\u001b[0m \u001b[38;5;124;03m    \"\"\"\u001b[39;00m\n\u001b[1;32m--> 630\u001b[0m     data \u001b[38;5;241m=\u001b[39m \u001b[38;5;28mself\u001b[39m\u001b[38;5;241m.\u001b[39mfp\u001b[38;5;241m.\u001b[39mread(amt)\n\u001b[0;32m    631\u001b[0m     \u001b[38;5;28;01mif\u001b[39;00m \u001b[38;5;28mlen\u001b[39m(data) \u001b[38;5;241m<\u001b[39m amt:\n\u001b[0;32m    632\u001b[0m         \u001b[38;5;28;01mraise\u001b[39;00m IncompleteRead(data, amt\u001b[38;5;241m-\u001b[39m\u001b[38;5;28mlen\u001b[39m(data))\n",
      "File \u001b[1;32m~\\AppData\\Local\\Programs\\Python\\Python311\\Lib\\socket.py:706\u001b[0m, in \u001b[0;36mSocketIO.readinto\u001b[1;34m(self, b)\u001b[0m\n\u001b[0;32m    704\u001b[0m \u001b[38;5;28;01mwhile\u001b[39;00m \u001b[38;5;28;01mTrue\u001b[39;00m:\n\u001b[0;32m    705\u001b[0m     \u001b[38;5;28;01mtry\u001b[39;00m:\n\u001b[1;32m--> 706\u001b[0m         \u001b[38;5;28;01mreturn\u001b[39;00m \u001b[38;5;28;43mself\u001b[39;49m\u001b[38;5;241;43m.\u001b[39;49m\u001b[43m_sock\u001b[49m\u001b[38;5;241;43m.\u001b[39;49m\u001b[43mrecv_into\u001b[49m\u001b[43m(\u001b[49m\u001b[43mb\u001b[49m\u001b[43m)\u001b[49m\n\u001b[0;32m    707\u001b[0m     \u001b[38;5;28;01mexcept\u001b[39;00m timeout:\n\u001b[0;32m    708\u001b[0m         \u001b[38;5;28mself\u001b[39m\u001b[38;5;241m.\u001b[39m_timeout_occurred \u001b[38;5;241m=\u001b[39m \u001b[38;5;28;01mTrue\u001b[39;00m\n",
      "File \u001b[1;32m~\\AppData\\Local\\Programs\\Python\\Python311\\Lib\\ssl.py:1278\u001b[0m, in \u001b[0;36mSSLSocket.recv_into\u001b[1;34m(self, buffer, nbytes, flags)\u001b[0m\n\u001b[0;32m   1274\u001b[0m     \u001b[38;5;28;01mif\u001b[39;00m flags \u001b[38;5;241m!=\u001b[39m \u001b[38;5;241m0\u001b[39m:\n\u001b[0;32m   1275\u001b[0m         \u001b[38;5;28;01mraise\u001b[39;00m \u001b[38;5;167;01mValueError\u001b[39;00m(\n\u001b[0;32m   1276\u001b[0m           \u001b[38;5;124m\"\u001b[39m\u001b[38;5;124mnon-zero flags not allowed in calls to recv_into() on \u001b[39m\u001b[38;5;132;01m%s\u001b[39;00m\u001b[38;5;124m\"\u001b[39m \u001b[38;5;241m%\u001b[39m\n\u001b[0;32m   1277\u001b[0m           \u001b[38;5;28mself\u001b[39m\u001b[38;5;241m.\u001b[39m\u001b[38;5;18m__class__\u001b[39m)\n\u001b[1;32m-> 1278\u001b[0m     \u001b[38;5;28;01mreturn\u001b[39;00m \u001b[38;5;28;43mself\u001b[39;49m\u001b[38;5;241;43m.\u001b[39;49m\u001b[43mread\u001b[49m\u001b[43m(\u001b[49m\u001b[43mnbytes\u001b[49m\u001b[43m,\u001b[49m\u001b[43m \u001b[49m\u001b[43mbuffer\u001b[49m\u001b[43m)\u001b[49m\n\u001b[0;32m   1279\u001b[0m \u001b[38;5;28;01melse\u001b[39;00m:\n\u001b[0;32m   1280\u001b[0m     \u001b[38;5;28;01mreturn\u001b[39;00m \u001b[38;5;28msuper\u001b[39m()\u001b[38;5;241m.\u001b[39mrecv_into(buffer, nbytes, flags)\n",
      "File \u001b[1;32m~\\AppData\\Local\\Programs\\Python\\Python311\\Lib\\ssl.py:1134\u001b[0m, in \u001b[0;36mSSLSocket.read\u001b[1;34m(self, len, buffer)\u001b[0m\n\u001b[0;32m   1132\u001b[0m \u001b[38;5;28;01mtry\u001b[39;00m:\n\u001b[0;32m   1133\u001b[0m     \u001b[38;5;28;01mif\u001b[39;00m buffer \u001b[38;5;129;01mis\u001b[39;00m \u001b[38;5;129;01mnot\u001b[39;00m \u001b[38;5;28;01mNone\u001b[39;00m:\n\u001b[1;32m-> 1134\u001b[0m         \u001b[38;5;28;01mreturn\u001b[39;00m \u001b[38;5;28;43mself\u001b[39;49m\u001b[38;5;241;43m.\u001b[39;49m\u001b[43m_sslobj\u001b[49m\u001b[38;5;241;43m.\u001b[39;49m\u001b[43mread\u001b[49m\u001b[43m(\u001b[49m\u001b[38;5;28;43mlen\u001b[39;49m\u001b[43m,\u001b[49m\u001b[43m \u001b[49m\u001b[43mbuffer\u001b[49m\u001b[43m)\u001b[49m\n\u001b[0;32m   1135\u001b[0m     \u001b[38;5;28;01melse\u001b[39;00m:\n\u001b[0;32m   1136\u001b[0m         \u001b[38;5;28;01mreturn\u001b[39;00m \u001b[38;5;28mself\u001b[39m\u001b[38;5;241m.\u001b[39m_sslobj\u001b[38;5;241m.\u001b[39mread(\u001b[38;5;28mlen\u001b[39m)\n",
      "\u001b[1;31mKeyboardInterrupt\u001b[0m: "
     ]
    }
   ],
   "source": [
    "# WMS-Server-URL\n",
    "url = \"https://geodienste.bremen.de/wms_dop10_2023\"\n",
    "\n",
    "# Verbindung zum WMS-Server herstellen\n",
    "wms = WebMapService(url, version='1.3.0')\n",
    "\n",
    "# Layer auswählen\n",
    "layer = 'DOP10_2023_HB'\n",
    "\n",
    "# Bounding Box definieren (minx, miny, maxx, maxy)\n",
    "bbox = (488608.7545, 5881989.4935, 490215.9319, 5883625.7616)\n",
    "\n",
    "# Verzeichnis für die Ausgabe erstellen\n",
    "output_dir = \"wms_output\"\n",
    "os.makedirs(output_dir, exist_ok=True)\n",
    "\n",
    "# Tile size that matches the model's requirement (256x256 pixels)\n",
    "tile_size = 256  # This is your model's expected tile size\n",
    "\n",
    "# Let's define the \"zoom\" by increasing the resolution (WIDTH and HEIGHT) for smaller tiles\n",
    "# For example, a higher resolution of 512x512 or 1024x1024 could give better details.\n",
    "resolution = 8192  # Adjust this to higher values for better detail\n",
    "\n",
    "# Calculate the new tile count for more zoomed-in tiles\n",
    "num_tiles_x = int((bbox[2] - bbox[0]) / (resolution / tile_size))  # We divide by the new resolution\n",
    "num_tiles_y = int((bbox[3] - bbox[1]) / (resolution / tile_size))  # We divide by the new resolution\n",
    "\n",
    "# Ensure we cover the entire bounding box (round if necessary)\n",
    "if (resolution / tile_size) % 1 > 0:\n",
    "    num_tiles_x += 1\n",
    "if (resolution / tile_size) % 1 > 0:\n",
    "    num_tiles_y += 1\n",
    "\n",
    "tile_width = (bbox[2] - bbox[0]) / num_tiles_x\n",
    "tile_height = (bbox[3] - bbox[1]) / num_tiles_y\n",
    "\n",
    "# Now, request higher-resolution tiles from the WMS server\n",
    "for i in range(num_tiles_y):\n",
    "    for j in range(num_tiles_x):\n",
    "        tile_bbox = (\n",
    "            bbox[0] + j * tile_width,\n",
    "            bbox[1] + i * tile_height,\n",
    "            bbox[0] + (j + 1) * tile_width,\n",
    "            bbox[1] + (i + 1) * tile_height\n",
    "        )\n",
    "\n",
    "        # Tile filename\n",
    "        tile_filename = f\"tile_{int(tile_bbox[0])}_{int(tile_bbox[1])}\"\n",
    "\n",
    "        # Now, download the tile with higher resolution (we specify WIDTH and HEIGHT in the WMS request)\n",
    "        download_image(wms, layer, tile_bbox, (resolution, resolution), 'image/jpeg', f\"{output_dir}/{tile_filename}_highres.jpg\")\n",
    "\n",
    "print(\"Alle Bilder wurden erfolgreich heruntergeladen.\")\n"
   ]
  },
  {
   "cell_type": "code",
   "execution_count": null,
   "metadata": {},
   "outputs": [],
   "source": []
  }
 ],
 "metadata": {
  "kernelspec": {
   "display_name": "hsb",
   "language": "python",
   "name": "python3"
  },
  "language_info": {
   "codemirror_mode": {
    "name": "ipython",
    "version": 3
   },
   "file_extension": ".py",
   "mimetype": "text/x-python",
   "name": "python",
   "nbconvert_exporter": "python",
   "pygments_lexer": "ipython3",
   "version": "3.9.18"
  }
 },
 "nbformat": 4,
 "nbformat_minor": 2
}
