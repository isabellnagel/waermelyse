{
 "cells": [
  {
   "cell_type": "code",
   "execution_count": 1,
   "metadata": {},
   "outputs": [
    {
     "name": "stdout",
     "output_type": "stream",
     "text": [
      "Requirement already satisfied: pycocotools in c:\\users\\bilge\\appdata\\local\\programs\\python\\python311\\lib\\site-packages (2.0.8)\n",
      "Requirement already satisfied: matplotlib in c:\\users\\bilge\\appdata\\local\\programs\\python\\python311\\lib\\site-packages (3.8.1)\n",
      "Requirement already satisfied: opencv-python in c:\\users\\bilge\\appdata\\local\\programs\\python\\python311\\lib\\site-packages (4.10.0.84)\n",
      "Requirement already satisfied: numpy in c:\\users\\bilge\\appdata\\local\\programs\\python\\python311\\lib\\site-packages (from pycocotools) (1.26.4)\n",
      "Requirement already satisfied: contourpy>=1.0.1 in c:\\users\\bilge\\appdata\\local\\programs\\python\\python311\\lib\\site-packages (from matplotlib) (1.1.1)\n",
      "Requirement already satisfied: cycler>=0.10 in c:\\users\\bilge\\appdata\\local\\programs\\python\\python311\\lib\\site-packages (from matplotlib) (0.12.1)\n",
      "Requirement already satisfied: fonttools>=4.22.0 in c:\\users\\bilge\\appdata\\local\\programs\\python\\python311\\lib\\site-packages (from matplotlib) (4.43.1)\n",
      "Requirement already satisfied: kiwisolver>=1.3.1 in c:\\users\\bilge\\appdata\\local\\programs\\python\\python311\\lib\\site-packages (from matplotlib) (1.4.5)\n",
      "Requirement already satisfied: packaging>=20.0 in c:\\users\\bilge\\appdata\\roaming\\python\\python311\\site-packages (from matplotlib) (23.1)\n",
      "Requirement already satisfied: pillow>=8 in c:\\users\\bilge\\appdata\\local\\programs\\python\\python311\\lib\\site-packages (from matplotlib) (10.1.0)\n",
      "Requirement already satisfied: pyparsing>=2.3.1 in c:\\users\\bilge\\appdata\\local\\programs\\python\\python311\\lib\\site-packages (from matplotlib) (3.1.1)\n",
      "Requirement already satisfied: python-dateutil>=2.7 in c:\\users\\bilge\\appdata\\roaming\\python\\python311\\site-packages (from matplotlib) (2.8.2)\n",
      "Requirement already satisfied: six>=1.5 in c:\\users\\bilge\\appdata\\roaming\\python\\python311\\site-packages (from python-dateutil>=2.7->matplotlib) (1.16.0)\n",
      "Note: you may need to restart the kernel to use updated packages.\n"
     ]
    }
   ],
   "source": [
    "pip install pycocotools matplotlib opencv-python"
   ]
  },
  {
   "cell_type": "code",
   "execution_count": null,
   "metadata": {},
   "outputs": [],
   "source": [
    "import os\n",
    "import cv2\n",
    "import json\n",
    "\n",
    "# Definiere die Pfade\n",
    "images_path = r\"C:\\Users\\bilge\\OneDrive\\Masaüstü\\ML Wärmelyse\\waermelyse\\machine_learning\\project-7-at-2025-01-04-20-21-48c98d16\\images\"\n",
    "annotations_path = r\"C:\\Users\\bilge\\OneDrive\\Masaüstü\\ML Wärmelyse\\waermelyse\\machine_learning\\project-7-at-2025-01-04-20-21-48c98d16\\result.json\"\n",
    "\n",
    "# Lade die Annotationsdatei\n",
    "with open(annotations_path, 'r', encoding='utf-8') as f:\n",
    "    coco_data = json.load(f)\n",
    "\n",
    "# Erstelle ein COCO-Objekt\n",
    "from pycocotools.coco import COCO\n",
    "coco = COCO(annotations_path)\n",
    "\n",
    "from PIL import Image\n",
    "import os\n",
    "\n",
    "# Beispiel: lade das erste Bild\n",
    "img_info = coco_data['images'][1]\n",
    "\n",
    "# Entferne das \"images\\\\\" Präfix, um den Pfad zu korrigieren\n",
    "img_file_name = img_info['file_name'].replace('images\\\\', '')  # Entfernt \"images\\\\\" Präfix\n",
    "\n",
    "# Vollständiger Pfad zum Bild\n",
    "img_path = os.path.join(images_path, img_file_name)\n",
    "\n",
    "# Überprüfen, ob das Bild existiert\n",
    "if not os.path.exists(img_path):\n",
    "    print(f\"Bild {img_file_name} existiert nicht im Pfad {img_path}. Überprüfe den Pfad.\")\n",
    "else:\n",
    "    print(f\"Versuche, das Bild zu laden: {img_path}\")\n",
    "    try:\n",
    "        image = Image.open(img_path)\n",
    "        image.show()  # Das Bild anzeigen\n",
    "        print(\"Bild erfolgreich mit PIL geladen.\")\n",
    "    except Exception as e:\n",
    "        print(f\"Fehler beim Laden des Bildes mit PIL: {e}\")\n",
    "\n"
   ]
  },
  {
   "cell_type": "markdown",
   "metadata": {},
   "source": [
    "Hier ist ein Python-Code, der den angegebenen JSON-Pfad und den Bilder-Ordner verwendet, um den Zusammenhang und Existenz der Bilder zu prüfen"
   ]
  },
  {
   "cell_type": "code",
   "execution_count": 3,
   "metadata": {},
   "outputs": [
    {
     "name": "stdout",
     "output_type": "stream",
     "text": [
      "Fehlende Bilder gefunden:\n",
      "['C:\\\\Users\\\\bilge\\\\OneDrive\\\\Masaüstü\\\\ML Wärmelyse\\\\waermelyse\\\\machine_learning\\\\project-7-at-2025-01-04-20-21-48c98d16\\\\images\\\\images\\\\94f31127-tile_488608_5881989_png.png', 'C:\\\\Users\\\\bilge\\\\OneDrive\\\\Masaüstü\\\\ML Wärmelyse\\\\waermelyse\\\\machine_learning\\\\project-7-at-2025-01-04-20-21-48c98d16\\\\images\\\\images\\\\0929f5f9-tile_488608_5882019_png.png', 'C:\\\\Users\\\\bilge\\\\OneDrive\\\\Masaüstü\\\\ML Wärmelyse\\\\waermelyse\\\\machine_learning\\\\project-7-at-2025-01-04-20-21-48c98d16\\\\images\\\\images\\\\5e059439-tile_488608_5882050_png.png', 'C:\\\\Users\\\\bilge\\\\OneDrive\\\\Masaüstü\\\\ML Wärmelyse\\\\waermelyse\\\\machine_learning\\\\project-7-at-2025-01-04-20-21-48c98d16\\\\images\\\\images\\\\099195e5-tile_488608_5882080_png.png', 'C:\\\\Users\\\\bilge\\\\OneDrive\\\\Masaüstü\\\\ML Wärmelyse\\\\waermelyse\\\\machine_learning\\\\project-7-at-2025-01-04-20-21-48c98d16\\\\images\\\\images\\\\0bb18a12-tile_488608_5882110_png.png', 'C:\\\\Users\\\\bilge\\\\OneDrive\\\\Masaüstü\\\\ML Wärmelyse\\\\waermelyse\\\\machine_learning\\\\project-7-at-2025-01-04-20-21-48c98d16\\\\images\\\\images\\\\0446d73e-tile_488608_5882140_png.png', 'C:\\\\Users\\\\bilge\\\\OneDrive\\\\Masaüstü\\\\ML Wärmelyse\\\\waermelyse\\\\machine_learning\\\\project-7-at-2025-01-04-20-21-48c98d16\\\\images\\\\images\\\\bf36d81b-tile_488608_5882171_png.png', 'C:\\\\Users\\\\bilge\\\\OneDrive\\\\Masaüstü\\\\ML Wärmelyse\\\\waermelyse\\\\machine_learning\\\\project-7-at-2025-01-04-20-21-48c98d16\\\\images\\\\images\\\\77eb74a1-tile_488608_5882201_png.png', 'C:\\\\Users\\\\bilge\\\\OneDrive\\\\Masaüstü\\\\ML Wärmelyse\\\\waermelyse\\\\machine_learning\\\\project-7-at-2025-01-04-20-21-48c98d16\\\\images\\\\images\\\\c09c37cd-tile_488608_5882231_png.png', 'C:\\\\Users\\\\bilge\\\\OneDrive\\\\Masaüstü\\\\ML Wärmelyse\\\\waermelyse\\\\machine_learning\\\\project-7-at-2025-01-04-20-21-48c98d16\\\\images\\\\images\\\\88daf2b2-tile_488608_5882262_png.png']\n",
      "Alle Annotationen verweisen auf existierende Bilder.\n",
      "Alle Annotationen verwenden gültige Kategorien.\n",
      "Alle image_ids sind eindeutig.\n",
      "Alle annotation_ids sind eindeutig.\n"
     ]
    }
   ],
   "source": [
    "import os\n",
    "import json\n",
    "\n",
    "# Pfade anpassen\n",
    "json_path = r\"C:\\Users\\bilge\\OneDrive\\Masaüstü\\ML Wärmelyse\\waermelyse\\machine_learning\\project-7-at-2025-01-04-20-21-48c98d16\\result.json\"\n",
    "images_dir = r\"C:\\Users\\bilge\\OneDrive\\Masaüstü\\ML Wärmelyse\\waermelyse\\machine_learning\\project-7-at-2025-01-04-20-21-48c98d16\\images\"\n",
    "\n",
    "# Laden der JSON-Datei\n",
    "with open(json_path, 'r', encoding='utf-8') as file:\n",
    "    data = json.load(file)\n",
    "\n",
    "# Prüfen, ob alle Bilder existieren\n",
    "missing_images = []\n",
    "for image in data['images']:\n",
    "    image_path = os.path.join(images_dir, image['file_name'])\n",
    "    if not os.path.exists(image_path):\n",
    "        missing_images.append(image_path)\n",
    "\n",
    "if missing_images:\n",
    "    print(f\"Fehlende Bilder gefunden:\\n{missing_images}\")\n",
    "else:\n",
    "    print(\"Alle Bilder sind vorhanden!\")\n",
    "\n",
    "# Konsistenz der Kategorien und Annotationen prüfen\n",
    "image_ids = set(image['id'] for image in data['images'])\n",
    "category_ids = set(category['id'] for category in data['categories'])\n",
    "annotation_image_ids = set(annotation['image_id'] for annotation in data['annotations'])\n",
    "annotation_category_ids = set(annotation['category_id'] for annotation in data['annotations'])\n",
    "\n",
    "# Verwaiste Annotationen finden\n",
    "invalid_image_ids = annotation_image_ids - image_ids\n",
    "invalid_category_ids = annotation_category_ids - category_ids\n",
    "\n",
    "if invalid_image_ids:\n",
    "    print(f\"Annotations mit ungültigen image_ids: {invalid_image_ids}\")\n",
    "else:\n",
    "    print(\"Alle Annotationen verweisen auf existierende Bilder.\")\n",
    "\n",
    "if invalid_category_ids:\n",
    "    print(f\"Annotations mit ungültigen category_ids: {invalid_category_ids}\")\n",
    "else:\n",
    "    print(\"Alle Annotationen verwenden gültige Kategorien.\")\n",
    "\n",
    "# Doppelte IDs prüfen\n",
    "def has_duplicates(ids):\n",
    "    return len(ids) != len(set(ids))\n",
    "\n",
    "if has_duplicates([image['id'] for image in data['images']]):\n",
    "    print(\"Doppelte image_ids gefunden!\")\n",
    "else:\n",
    "    print(\"Alle image_ids sind eindeutig.\")\n",
    "\n",
    "if has_duplicates([annotation['id'] for annotation in data['annotations']]):\n",
    "    print(\"Doppelte annotation_ids gefunden!\")\n",
    "else:\n",
    "    print(\"Alle annotation_ids sind eindeutig.\")\n"
   ]
  },
  {
   "cell_type": "markdown",
   "metadata": {},
   "source": [
    " Kategorien und Annotationen prüfen\n",
    " "
   ]
  },
  {
   "cell_type": "code",
   "execution_count": 4,
   "metadata": {},
   "outputs": [],
   "source": [
    "with open(json_path, 'r', encoding='utf-8') as file:\n",
    "    data = json.load(file)\n"
   ]
  },
  {
   "cell_type": "code",
   "execution_count": 5,
   "metadata": {},
   "outputs": [
    {
     "name": "stdout",
     "output_type": "stream",
     "text": [
      "Alle Annotationen verweisen auf existierende Bilder.\n",
      "Alle Annotationen verwenden gültige Kategorien.\n",
      "Alle image_ids sind eindeutig.\n",
      "Alle annotation_ids sind eindeutig.\n"
     ]
    }
   ],
   "source": [
    "# IDs prüfen\n",
    "image_ids = set(image['id'] for image in data['images'])\n",
    "category_ids = set(category['id'] for category in data['categories'])\n",
    "annotation_image_ids = set(annotation['image_id'] for annotation in data['annotations'])\n",
    "annotation_category_ids = set(annotation['category_id'] for annotation in data['annotations'])\n",
    "\n",
    "# Verwaiste Annotationen finden\n",
    "invalid_image_ids = annotation_image_ids - image_ids\n",
    "invalid_category_ids = annotation_category_ids - category_ids\n",
    "\n",
    "if invalid_image_ids:\n",
    "    print(f\"Annotations mit ungültigen image_ids: {invalid_image_ids}\")\n",
    "else:\n",
    "    print(\"Alle Annotationen verweisen auf existierende Bilder.\")\n",
    "\n",
    "if invalid_category_ids:\n",
    "    print(f\"Annotations mit ungültigen category_ids: {invalid_category_ids}\")\n",
    "else:\n",
    "    print(\"Alle Annotationen verwenden gültige Kategorien.\")\n",
    "\n",
    "# Doppelte IDs prüfen\n",
    "def has_duplicates(ids):\n",
    "    return len(ids) != len(set(ids))\n",
    "\n",
    "if has_duplicates([image['id'] for image in data['images']]):\n",
    "    print(\"Doppelte image_ids gefunden!\")\n",
    "else:\n",
    "    print(\"Alle image_ids sind eindeutig.\")\n",
    "\n",
    "if has_duplicates([annotation['id'] for annotation in data['annotations']]):\n",
    "    print(\"Doppelte annotation_ids gefunden!\")\n",
    "else:\n",
    "    print(\"Alle annotation_ids sind eindeutig.\")\n"
   ]
  },
  {
   "cell_type": "code",
   "execution_count": null,
   "metadata": {},
   "outputs": [],
   "source": []
  }
 ],
 "metadata": {
  "kernelspec": {
   "display_name": "Python 3",
   "language": "python",
   "name": "python3"
  },
  "language_info": {
   "codemirror_mode": {
    "name": "ipython",
    "version": 3
   },
   "file_extension": ".py",
   "mimetype": "text/x-python",
   "name": "python",
   "nbconvert_exporter": "python",
   "pygments_lexer": "ipython3",
   "version": "3.11.3"
  }
 },
 "nbformat": 4,
 "nbformat_minor": 2
}
