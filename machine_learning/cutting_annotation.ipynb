{
 "cells": [
  {
   "cell_type": "code",
   "execution_count": 9,
   "metadata": {},
   "outputs": [],
   "source": [
    "import os\n",
    "import json\n",
    "\n",
    "# Begrenzungswerte für das Bild\n",
    "IMAGE_WIDTH = 300\n",
    "IMAGE_HEIGHT = 300\n",
    "\n",
    "\n",
    "# Definiere den Pfad zu deinem COCO-Datensatz\n",
    "dataset_path = r\"C:\\Users\\bilge\\OneDrive\\Masaüstü\\ML Wärmelyse\\waermelyse\\machine_learning\\project-9-at-2025-01-11-18-46-b2a4bf24\"\n",
    "\n",
    "# Pfade für JSON-Datei und Bilder\n",
    "json_file_path = os.path.join(dataset_path, \"result.json\")\n",
    "images_folder_path = os.path.join(dataset_path, \"images\")\n",
    "\n",
    "# Lade die JSON-Datei\n",
    "with open(json_file_path, 'r') as json_file:\n",
    "    coco_data = json.load(json_file)\n",
    "\n",
    "\n"
   ]
  },
  {
   "cell_type": "code",
   "execution_count": 15,
   "metadata": {},
   "outputs": [],
   "source": [
    "def clip_bbox(bbox, image_width, image_height):\n",
    "\n",
    "    \"\"\"\n",
    "    Schneidet die Bounding Box an den Bildgrenzen ab.\n",
    "    Parameters:\n",
    "        bbox (list): Bounding Box im Format [x, y, width, height].\n",
    "        image_width (int): Breite des Bildes.\n",
    "        image_height (int): Höhe des Bildes.\n",
    "    Returns:\n",
    "        list: Angepasste Bounding Box.\n",
    "    \"\"\"\n",
    "\n",
    "    x, y, width, height = bbox\n",
    "\n",
    "    x = max(0, min(x, image_width))\n",
    "\n",
    "    y = max(0, min(y, image_height))\n",
    "\n",
    "    width = max(0, min(width, image_width - x))\n",
    "\n",
    "    height = max(0, min(height, image_height - y))\n",
    "\n",
    "    return [x, y, width, height]\n"
   ]
  },
  {
   "cell_type": "code",
   "execution_count": 14,
   "metadata": {},
   "outputs": [
    {
     "name": "stdout",
     "output_type": "stream",
     "text": [
      "Korrigierte JSON-Datei gespeichert unter: C:\\Users\\bilge\\OneDrive\\Masaüstü\\ML Wärmelyse\\waermelyse\\machine_learning\\corrected_result.json\n"
     ]
    }
   ],
   "source": [
    "# Neue Annotationen erstellen\n",
    "\n",
    "corrected_annotations = []\n",
    "\n",
    "for annotation in coco_data['annotations']:\n",
    "\n",
    "    corrected_annotation = annotation.copy()\n",
    "\n",
    "    corrected_annotation['bbox'] = clip_bbox(annotation['bbox'], IMAGE_WIDTH, IMAGE_HEIGHT)\n",
    "\n",
    "    corrected_annotations.append(corrected_annotation)\n",
    "\n",
    "\n",
    "\n",
    "# Originaldaten mit den angepassten Annotationen aktualisieren\n",
    "\n",
    "corrected_coco_data = coco_data.copy()\n",
    "\n",
    "corrected_coco_data['annotations'] = corrected_annotations\n",
    "\n",
    "\n",
    "\n",
    "# Speichern der neuen JSON-Datei\n",
    "\n",
    "# Pfad zur neuen JSON-Datei inklusive Dateiname\n",
    "corrected_json_path = r\"C:\\Users\\bilge\\OneDrive\\Masaüstü\\ML Wärmelyse\\waermelyse\\machine_learning\\corrected_result.json\"\n",
    "\n",
    "# Speichern der neuen JSON-Datei\n",
    "with open(corrected_json_path, 'w') as corrected_json_file:\n",
    "    json.dump(corrected_coco_data, corrected_json_file)\n",
    "\n",
    "print(f\"Korrigierte JSON-Datei gespeichert unter: {corrected_json_path}\")\n"
   ]
  },
  {
   "cell_type": "code",
   "execution_count": null,
   "metadata": {},
   "outputs": [],
   "source": []
  }
 ],
 "metadata": {
  "kernelspec": {
   "display_name": "base",
   "language": "python",
   "name": "python3"
  },
  "language_info": {
   "codemirror_mode": {
    "name": "ipython",
    "version": 3
   },
   "file_extension": ".py",
   "mimetype": "text/x-python",
   "name": "python",
   "nbconvert_exporter": "python",
   "pygments_lexer": "ipython3",
   "version": "3.10.9"
  }
 },
 "nbformat": 4,
 "nbformat_minor": 2
}
