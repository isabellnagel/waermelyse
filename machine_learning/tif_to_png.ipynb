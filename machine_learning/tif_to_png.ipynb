{
 "cells": [
  {
   "cell_type": "code",
   "execution_count": 6,
   "metadata": {},
   "outputs": [
    {
     "name": "stdout",
     "output_type": "stream",
     "text": [
      "7372 Kacheln gespeichert im Ordner 'C:\\Users\\bilge\\OneDrive\\Masaüstü\\ML Wärmelyse\\tif_output_trees'\n"
     ]
    }
   ],
   "source": [
    "from PIL import Image\n",
    "import os\n",
    "\n",
    "# Deaktiviert die Begrenzung für große Bilder\n",
    "Image.MAX_IMAGE_PIXELS = None\n",
    "\n",
    "def split_tif_to_tiles(input_tif, output_folder, tile_size=(320, 320)):\n",
    "    \"\"\"\n",
    "    Zerlegt eine TIFF-Datei in kleinere Kacheln und speichert sie als Bilder.\n",
    "\n",
    "    :param input_tif: Pfad zur Eingabe-TIFF-Datei\n",
    "    :param output_folder: Ordner, in dem die Kacheln gespeichert werden\n",
    "    :param tile_size: Tuple mit der Breite und Höhe der Kacheln (Standard: 320x320)\n",
    "    \"\"\"\n",
    "    # Sicherstellen, dass der Ausgabeordner existiert\n",
    "    os.makedirs(output_folder, exist_ok=True)\n",
    "\n",
    "    # Öffne die TIFF-Datei\n",
    "    with Image.open(input_tif) as img:\n",
    "        width, height = img.size\n",
    "        tile_width, tile_height = tile_size\n",
    "\n",
    "        # Zähle die Kacheln\n",
    "        tile_count = 0\n",
    "\n",
    "        # Schleife über die Koordinaten\n",
    "        for top in range(0, height, tile_height):\n",
    "            for left in range(0, width, tile_width):\n",
    "                # Berechne die Kachelgrenzen\n",
    "                right = min(left + tile_width, width)\n",
    "                bottom = min(top + tile_height, height)\n",
    "\n",
    "                # Schneide die Kachel aus\n",
    "                tile = img.crop((left, top, right, bottom))\n",
    "\n",
    "                # Speicher die Kachel\n",
    "                tile_filename = f\"tile_{tile_count:04d}.png\"\n",
    "                tile.save(os.path.join(output_folder, tile_filename))\n",
    "\n",
    "                tile_count += 1\n",
    "\n",
    "    print(f\"{tile_count} Kacheln gespeichert im Ordner '{output_folder}'\")\n",
    "\n",
    "# Beispielverwendung\n",
    "input_tif = r\"C:\\Users\\bilge\\OneDrive\\Masaüstü\\ML Wärmelyse\\DOP10_Mosaik.tif\"  # Pfad zur Eingabe-TIFF-Datei\n",
    "output_folder = r\"C:\\Users\\bilge\\OneDrive\\Masaüstü\\ML Wärmelyse\\tif_output_trees\"  # Ordner für die Ausgabedateien\n",
    "split_tif_to_tiles(input_tif, output_folder)\n",
    "\n"
   ]
  },
  {
   "cell_type": "code",
   "execution_count": null,
   "metadata": {},
   "outputs": [],
   "source": []
  }
 ],
 "metadata": {
  "kernelspec": {
   "display_name": "tutorial",
   "language": "python",
   "name": "python3"
  },
  "language_info": {
   "codemirror_mode": {
    "name": "ipython",
    "version": 3
   },
   "file_extension": ".py",
   "mimetype": "text/x-python",
   "name": "python",
   "nbconvert_exporter": "python",
   "pygments_lexer": "ipython3",
   "version": "3.13.0"
  }
 },
 "nbformat": 4,
 "nbformat_minor": 2
}
