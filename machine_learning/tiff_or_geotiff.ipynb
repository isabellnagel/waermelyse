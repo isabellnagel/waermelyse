{
 "cells": [
  {
   "cell_type": "code",
   "execution_count": 3,
   "metadata": {},
   "outputs": [
    {
     "name": "stdout",
     "output_type": "stream",
     "text": [
      "Collecting rasterio\n",
      "  Downloading rasterio-1.4.3-cp310-cp310-win_amd64.whl (25.4 MB)\n",
      "     --------------------------------------- 25.4/25.4 MB 11.3 MB/s eta 0:00:00\n",
      "Collecting cligj>=0.5\n",
      "  Downloading cligj-0.7.2-py3-none-any.whl (7.1 kB)\n",
      "Requirement already satisfied: click>=4.0 in c:\\users\\bilge\\anaconda3\\lib\\site-packages (from rasterio) (8.0.4)\n",
      "Collecting click-plugins\n",
      "  Downloading click_plugins-1.1.1-py2.py3-none-any.whl (7.5 kB)\n",
      "Collecting affine\n",
      "  Downloading affine-2.4.0-py3-none-any.whl (15 kB)\n",
      "Requirement already satisfied: certifi in c:\\users\\bilge\\anaconda3\\lib\\site-packages (from rasterio) (2022.12.7)\n",
      "Requirement already satisfied: attrs in c:\\users\\bilge\\appdata\\roaming\\python\\python310\\site-packages (from rasterio) (24.2.0)\n",
      "Requirement already satisfied: pyparsing in c:\\users\\bilge\\anaconda3\\lib\\site-packages (from rasterio) (3.0.9)\n",
      "Requirement already satisfied: numpy>=1.24 in c:\\users\\bilge\\appdata\\roaming\\python\\python310\\site-packages (from rasterio) (1.26.4)\n",
      "Requirement already satisfied: colorama in c:\\users\\bilge\\anaconda3\\lib\\site-packages (from click>=4.0->rasterio) (0.4.6)\n",
      "Installing collected packages: affine, cligj, click-plugins, rasterio\n",
      "Successfully installed affine-2.4.0 click-plugins-1.1.1 cligj-0.7.2 rasterio-1.4.3\n",
      "Note: you may need to restart the kernel to use updated packages.\n"
     ]
    }
   ],
   "source": [
    "pip install rasterio\n"
   ]
  },
  {
   "cell_type": "code",
   "execution_count": 4,
   "metadata": {},
   "outputs": [
    {
     "name": "stdout",
     "output_type": "stream",
     "text": [
      "Die Datei ist eine GeoTIFF!\n",
      "Koordinatensystem (CRS): EPSG:25832\n",
      "Bounds (Grenzen): BoundingBox(left=487752.9, bottom=5881608.2, right=490828.79999999976, top=5884036.699999999)\n"
     ]
    }
   ],
   "source": [
    "import rasterio\n",
    "\n",
    "# Pfad zur TIFF-Datei\n",
    "input_tif = r\"C:\\Users\\bilge\\OneDrive\\Masaüstü\\ML Wärmelyse\\DOP10_Mosaik.tif\"\n",
    "\n",
    "try:\n",
    "    with rasterio.open(input_tif) as src:\n",
    "        # Prüfen auf CRS (Koordinatensystem)\n",
    "        if src.crs:\n",
    "            print(\"Die Datei ist eine GeoTIFF!\")\n",
    "            print(\"Koordinatensystem (CRS):\", src.crs)\n",
    "            print(\"Bounds (Grenzen):\", src.bounds)\n",
    "        else:\n",
    "            print(\"Die Datei ist keine GeoTIFF. Keine geographischen Informationen gefunden.\")\n",
    "except Exception as e:\n",
    "    print(\"Fehler beim Lesen der Datei:\", e)\n"
   ]
  },
  {
   "cell_type": "code",
   "execution_count": null,
   "metadata": {},
   "outputs": [],
   "source": []
  }
 ],
 "metadata": {
  "kernelspec": {
   "display_name": "base",
   "language": "python",
   "name": "python3"
  },
  "language_info": {
   "codemirror_mode": {
    "name": "ipython",
    "version": 3
   },
   "file_extension": ".py",
   "mimetype": "text/x-python",
   "name": "python",
   "nbconvert_exporter": "python",
   "pygments_lexer": "ipython3",
   "version": "3.10.9"
  }
 },
 "nbformat": 4,
 "nbformat_minor": 2
}
