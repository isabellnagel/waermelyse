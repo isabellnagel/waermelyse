{
 "cells": [
  {
   "cell_type": "code",
   "execution_count": 5,
   "metadata": {},
   "outputs": [],
   "source": [
    "import os\n",
    "from owslib.wms import WebMapService\n",
    "from PIL import Image\n",
    "import requests\n",
    "from io import BytesIO"
   ]
  },
  {
   "cell_type": "markdown",
   "metadata": {},
   "source": [
    "## Python Code zur Nutzung des WMS-Servers\n",
    "\n",
    "In dem folgenden Abschnitt wird der Web Map Service (WMS) von Bremen verwendet, um Karten- und Geodaten zu laden und anzuzeigen. Der Code stellt eine Verbindung zum WMS-Server her, listet verfügbare Layer auf und ruft Informationen zu einem bestimmten Layer ab."
   ]
  },
  {
   "cell_type": "code",
   "execution_count": 6,
   "metadata": {},
   "outputs": [
    {
     "name": "stdout",
     "output_type": "stream",
     "text": [
      "DOP10 2023 Land Bremen DOP10 2023 Land Bremen\n",
      "DOP10_2023_HB DOP10 2023 Bremen\n",
      "DOP10_2023_BHV DOP10 2023 Bremerhaven\n",
      "Bounding Box Layer: (463942.0, 5873090.0, 500928.0, 5898080.0, 'EPSG:25832')\n",
      "Supported CRS: ['EPSG:31467', 'EPSG:4258', 'EPSG:3857', 'EPSG:25833', 'CRS:84', 'EPSG:3044', 'EPSG:4326', 'EPSG:25832']\n"
     ]
    }
   ],
   "source": [
    "# WMS-URL: Die URL, die den Web Map Service des WMS-Servers angibt.\n",
    "wms_url = \"https://geodienste.bremen.de/wms_dop10_2023?language=ger\"\n",
    "\n",
    "# Verbindung zum Server herstellen\n",
    "wms = WebMapService(wms_url)\n",
    "\n",
    "# Verfügbare Layer anzeigen\n",
    "# Der WMS-Server enthält eine Reihe von Karten-Layern, die wir durchlaufen und ausgeben können.\n",
    "# In diesem Fall listen wir die Namen der Layer und deren Titel auf.\n",
    "for layer in wms.contents:\n",
    "    print(layer, wms[layer].title)\n",
    "\n",
    "# Informationen über einen bestimmten Layer abrufen\n",
    "# In diesem Schritt wählen wir einen bestimmten Layer (DOP10_2023_HB) aus und holen uns seine Metadaten.\n",
    "layer_name = \"DOP10_2023_HB\"\n",
    "layer_info = wms[layer_name]\n",
    "# Bounding Box des Layers: Hier erhalten wir die geographischen Grenzen (Eckkoordinaten) des Layers.\n",
    "print(\"Bounding Box Layer:\", layer_info.boundingBox)\n",
    "# Unterstützte CRS (Koordinatenreferenzsysteme): Der WMS-Server kann verschiedene Koordinatensysteme unterstützen. \n",
    "# Wir listen die unterstützten CRS für den ausgewählten Layer auf.\n",
    "print(\"Supported CRS:\", layer_info.crsOptions)"
   ]
  },
  {
   "cell_type": "markdown",
   "metadata": {},
   "source": [
    "## Funktion zum Herunterladen eines Bildes vom WMS-Server\n",
    "\n",
    "In dieser Funktion wird ein Bild von einem WMS-Server heruntergeladen. Die Funktion verwendet die `getmap`-Methode des WMS-Servers, um das Bild in einem gewünschten Format und einer gewünschten Größe abzurufen und es auf der Festplatte zu speichern."
   ]
  },
  {
   "cell_type": "code",
   "execution_count": 7,
   "metadata": {},
   "outputs": [],
   "source": [
    "def download_image(wms, layer, bbox, size, format, filename):\n",
    "    response = wms.getmap(layers=[layer],   # Wählen des Layers, das heruntergeladen werden soll\n",
    "                          styles=[''],      # Stil für das Layer (leer bedeutet standardmäßig)\n",
    "                          srs='EPSG:25832', # Koordinatenreferenzsystem\n",
    "                          bbox=bbox,        # Geographische Begrenzung (Bounding Box) des Bildes\n",
    "                          size=size,        # Größe des Bildes in Pixeln (Breite, Höhe)\n",
    "                          format=format,    # Format des heruntergeladenen Bildes (z.B. 'image/png')\n",
    "                          transparent=True) # Option für transparente Hintergründe (True oder False)\n",
    "    \n",
    "    with open(filename, 'wb') as out:\n",
    "        out.write(response.read())\n",
    "    print(f\"{filename} erfolgreich heruntergeladen.\")"
   ]
  },
  {
   "cell_type": "markdown",
   "metadata": {},
   "source": [
    "## Python-Code zum Herunterladen von Kartenbildern von einem WMS-Server\n",
    "\n",
    "Dieser Code zeigt, wie man mit einem WMS-Server Bilder für ein gesamtes Gebiet oder in kleineren Kacheln herunterladen kann. Die Kacheln sind nützlich, um große Karten in handlichere Teile zu unterteilen, die leichter verarbeitet oder angezeigt werden können."
   ]
  },
  {
   "cell_type": "markdown",
   "metadata": {},
   "source": [
    "# 300x300 Pixel\n"
   ]
  },
  {
   "cell_type": "code",
   "execution_count": 4,
   "metadata": {},
   "outputs": [
    {
     "name": "stdout",
     "output_type": "stream",
     "text": [
      "Alle Bilder wurden erfolgreich heruntergeladen.\n"
     ]
    }
   ],
   "source": [
    "import os\n",
    "from owslib.wms import WebMapService\n",
    "from PIL import Image\n",
    "import requests\n",
    "from io import BytesIO\n",
    "\n",
    "def download_image(wms, layer, bbox, size, format, filename):\n",
    "    response = wms.getmap(\n",
    "        layers=[layer],\n",
    "        srs='EPSG:25832',\n",
    "        bbox=bbox,\n",
    "        size=size,\n",
    "        format=format,\n",
    "        transparent=True\n",
    "    )\n",
    "    img = Image.open(BytesIO(response.read()))\n",
    "    img.save(filename)\n",
    "\n",
    "# WMS-Server-URL\n",
    "url = \"https://geodienste.bremen.de/wms_dop10_2023\"\n",
    "\n",
    "# Verbindung zum WMS-Server herstellen\n",
    "wms = WebMapService(url, version='1.3.0')\n",
    "\n",
    "# Layer auswählen\n",
    "layer = 'DOP10_2023_HB'\n",
    "\n",
    "# Bounding Box definieren (minx, miny, maxx, maxy)\n",
    "bbox = (488608.7545, 5881989.4935, 490215.9319, 5883625.7616)\n",
    "\n",
    "# Verzeichnis für die Ausgabe erstellen\n",
    "output_dir = \"wms_output_300x300\"\n",
    "os.makedirs(output_dir, exist_ok=True)\n",
    "\n",
    "# Zielgröße der Kacheln in Pixeln\n",
    "tile_size = 300\n",
    "\n",
    "# Zielauflösung in Metern pro Pixel\n",
    "resolution = 0.1  # Beispielwert, bitte anpassen\n",
    "\n",
    "# Breite und Höhe der Bounding Box in Metern\n",
    "bbox_width = bbox[2] - bbox[0]\n",
    "bbox_height = bbox[3] - bbox[1]\n",
    "\n",
    "# Anzahl der Kacheln in x- und y-Richtung\n",
    "num_tiles_x = int(bbox_width / (tile_size * resolution))\n",
    "num_tiles_y = int(bbox_height / (tile_size * resolution))\n",
    "\n",
    "# Breite und Höhe jeder Kachel in Metern\n",
    "tile_width = bbox_width / num_tiles_x\n",
    "tile_height = bbox_height / num_tiles_y\n",
    "\n",
    "for i in range(num_tiles_y):\n",
    "    for j in range(num_tiles_x):\n",
    "        tile_bbox = (\n",
    "            bbox[0] + j * tile_width,\n",
    "            bbox[1] + i * tile_height,\n",
    "            bbox[0] + (j + 1) * tile_width,\n",
    "            bbox[1] + (i + 1) * tile_height\n",
    "        )\n",
    "        \n",
    "        tile_filename = f\"tile_{int(tile_bbox[0])}_{int(tile_bbox[1])}\"\n",
    "        download_image(wms, layer, tile_bbox, (tile_size, tile_size), 'image/tiff', f\"{output_dir}/{tile_filename}_tiff.tiff\")\n",
    "        download_image(wms, layer, tile_bbox, (tile_size, tile_size), 'image/png', f\"{output_dir}/{tile_filename}_png.png\")\n",
    "\n",
    "print(\"Alle Bilder wurden erfolgreich heruntergeladen.\")\n"
   ]
  },
  {
   "cell_type": "markdown",
   "metadata": {},
   "source": [
    "# 320x320 Pixel"
   ]
  },
  {
   "cell_type": "code",
   "execution_count": 8,
   "metadata": {},
   "outputs": [
    {
     "name": "stdout",
     "output_type": "stream",
     "text": [
      "Maximale Anzahl von Bildern erreicht.\n",
      "Die ersten 10 Bilder wurden erfolgreich heruntergeladen.\n"
     ]
    }
   ],
   "source": [
    "\n",
    "import os\n",
    "from owslib.wms import WebMapService\n",
    "from PIL import Image\n",
    "from io import BytesIO\n",
    "\n",
    "def download_image(wms, layer, bbox, size, format, filename):\n",
    "    response = wms.getmap(\n",
    "        layers=[layer],\n",
    "        srs='EPSG:25832',\n",
    "        bbox=bbox,\n",
    "        size=size,\n",
    "        format=format,\n",
    "        transparent=True\n",
    "    )\n",
    "    img = Image.open(BytesIO(response.read()))\n",
    "    img.save(filename)\n",
    "\n",
    "# WMS-Server-URL\n",
    "url = \"https://geodienste.bremen.de/wms_dop10_2023\"\n",
    "\n",
    "# Verbindung zum WMS-Server herstellen\n",
    "wms = WebMapService(url, version='1.3.0')\n",
    "\n",
    "# Layer auswählen\n",
    "layer = 'DOP10_2023_HB'\n",
    "\n",
    "# Bounding Box definieren (minx, miny, maxx, maxy)\n",
    "bbox = (488608.7545, 5881989.4935, 490215.9319, 5883625.7616)\n",
    "\n",
    "# Verzeichnis für die Ausgabe erstellen\n",
    "output_dir = \"wms_output_320x320\"\n",
    "os.makedirs(output_dir, exist_ok=True)\n",
    "\n",
    "# Zielgröße der Kacheln in Pixeln\n",
    "tile_size = 320\n",
    "\n",
    "# Zielauflösung in Metern pro Pixel\n",
    "resolution = 0.1  # Beispielwert, bitte anpassen\n",
    "\n",
    "# Breite und Höhe der Bounding Box in Metern\n",
    "bbox_width = bbox[2] - bbox[0]\n",
    "bbox_height = bbox[3] - bbox[1]\n",
    "\n",
    "# Anzahl der Kacheln in x- und y-Richtung\n",
    "num_tiles_x = int(bbox_width / (tile_size * resolution))\n",
    "num_tiles_y = int(bbox_height / (tile_size * resolution))\n",
    "\n",
    "# Breite und Höhe jeder Kachel in Metern\n",
    "tile_width = bbox_width / num_tiles_x\n",
    "tile_height = bbox_height / num_tiles_y\n",
    "\n",
    "# Zähler für heruntergeladene Bilder\n",
    "download_count = 0\n",
    "max_downloads = 30\n",
    "\n",
    "for i in range(num_tiles_y):\n",
    "    for j in range(num_tiles_x):\n",
    "        if download_count >= max_downloads:\n",
    "            print(\"Maximale Anzahl von Bildern erreicht.\")\n",
    "            break\n",
    "        \n",
    "        tile_bbox = (\n",
    "            bbox[0] + j * tile_width,\n",
    "            bbox[1] + i * tile_height,\n",
    "            bbox[0] + (j + 1) * tile_width,\n",
    "            bbox[1] + (i + 1) * tile_height\n",
    "        )\n",
    "        \n",
    "        tile_filename = f\"tile_{int(tile_bbox[0])}_{int(tile_bbox[1])}\"\n",
    "        download_image(wms, layer, tile_bbox, (tile_size, tile_size), 'image/tiff', f\"{output_dir}/{tile_filename}_tiff.tiff\")\n",
    "        download_image(wms, layer, tile_bbox, (tile_size, tile_size), 'image/png', f\"{output_dir}/{tile_filename}_png.png\")\n",
    "        \n",
    "        download_count += 1\n",
    "\n",
    "    if download_count >= max_downloads:\n",
    "        break\n",
    "\n",
    "print(\"Die ersten 10 Bilder wurden erfolgreich heruntergeladen.\")\n"
   ]
  },
  {
   "cell_type": "code",
   "execution_count": 17,
   "metadata": {},
   "outputs": [
    {
     "name": "stdout",
     "output_type": "stream",
     "text": [
      "loading annotations into memory...\n",
      "Done (t=0.02s)\n",
      "creating index...\n",
      "index created!\n",
      "Versuche, das Bild zu laden: C:\\Users\\bilge\\OneDrive\\Masaüstü\\ML Wärmelyse\\waermelyse\\machine_learning\\project-7-at-2025-01-04-20-21-48c98d16\\images\\0929f5f9-tile_488608_5882019_png.png\n",
      "Bild erfolgreich mit PIL geladen.\n"
     ]
    }
   ],
   "source": [
    "import os\n",
    "import cv2\n",
    "import json\n",
    "\n",
    "# Definiere die Pfade\n",
    "images_path = r\"C:\\Users\\bilge\\OneDrive\\Masaüstü\\ML Wärmelyse\\waermelyse\\machine_learning\\project-7-at-2025-01-04-20-21-48c98d16\\images\"\n",
    "annotations_path = r\"C:\\Users\\bilge\\OneDrive\\Masaüstü\\ML Wärmelyse\\waermelyse\\machine_learning\\project-7-at-2025-01-04-20-21-48c98d16\\result.json\"\n",
    "\n",
    "# Lade die Annotationsdatei\n",
    "with open(annotations_path, 'r', encoding='utf-8') as f:\n",
    "    coco_data = json.load(f)\n",
    "\n",
    "# Erstelle ein COCO-Objekt\n",
    "from pycocotools.coco import COCO\n",
    "coco = COCO(annotations_path)\n",
    "\n",
    "from PIL import Image\n",
    "import os\n",
    "\n",
    "# Beispiel: lade das erste Bild\n",
    "img_info = coco_data['images'][1]\n",
    "\n",
    "# Entferne das \"images\\\\\" Präfix, um den Pfad zu korrigieren\n",
    "img_file_name = img_info['file_name'].replace('images\\\\', '')  # Entfernt \"images\\\\\" Präfix\n",
    "\n",
    "# Vollständiger Pfad zum Bild\n",
    "img_path = os.path.join(images_path, img_file_name)\n",
    "\n",
    "# Überprüfen, ob das Bild existiert\n",
    "if not os.path.exists(img_path):\n",
    "    print(f\"Bild {img_file_name} existiert nicht im Pfad {img_path}. Überprüfe den Pfad.\")\n",
    "else:\n",
    "    print(f\"Versuche, das Bild zu laden: {img_path}\")\n",
    "    try:\n",
    "        image = Image.open(img_path)\n",
    "        image.show()  # Das Bild anzeigen\n",
    "        print(\"Bild erfolgreich mit PIL geladen.\")\n",
    "    except Exception as e:\n",
    "        print(f\"Fehler beim Laden des Bildes mit PIL: {e}\")\n",
    "\n"
   ]
  },
  {
   "cell_type": "code",
   "execution_count": 13,
   "metadata": {},
   "outputs": [
    {
     "name": "stdout",
     "output_type": "stream",
     "text": [
      "Versuche, das Bild zu laden: C:\\Users\\bilge\\OneDrive\\Masaüstü\\ML Wärmelyse\\waermelyse\\machine_learning\\project-7-at-2025-01-04-20-21-48c98d16\\images\\94f31127-tile_488608_5881989_png.png\n",
      "Bild erfolgreich mit PIL geladen.\n"
     ]
    }
   ],
   "source": [
    "from PIL import Image\n",
    "import os\n",
    "\n",
    "# Beispiel: lade das erste Bild\n",
    "img_info = coco_data['images'][0]\n",
    "\n",
    "# Entferne das \"images\\\\\" Präfix, um den Pfad zu korrigieren\n",
    "img_file_name = img_info['file_name'].replace('images\\\\', '')  # Entfernt \"images\\\\\" Präfix\n",
    "\n",
    "# Vollständiger Pfad zum Bild\n",
    "img_path = os.path.join(images_path, img_file_name)\n",
    "\n",
    "# Überprüfen, ob das Bild existiert\n",
    "if not os.path.exists(img_path):\n",
    "    print(f\"Bild {img_file_name} existiert nicht im Pfad {img_path}. Überprüfe den Pfad.\")\n",
    "else:\n",
    "    print(f\"Versuche, das Bild zu laden: {img_path}\")\n",
    "    try:\n",
    "        image = Image.open(img_path)\n",
    "        image.show()  # Das Bild anzeigen\n",
    "        print(\"Bild erfolgreich mit PIL geladen.\")\n",
    "    except Exception as e:\n",
    "        print(f\"Fehler beim Laden des Bildes mit PIL: {e}\")\n"
   ]
  },
  {
   "cell_type": "code",
   "execution_count": null,
   "metadata": {},
   "outputs": [],
   "source": []
  }
 ],
 "metadata": {
  "kernelspec": {
   "display_name": "Python 3",
   "language": "python",
   "name": "python3"
  },
  "language_info": {
   "codemirror_mode": {
    "name": "ipython",
    "version": 3
   },
   "file_extension": ".py",
   "mimetype": "text/x-python",
   "name": "python",
   "nbconvert_exporter": "python",
   "pygments_lexer": "ipython3",
   "version": "3.11.3"
  }
 },
 "nbformat": 4,
 "nbformat_minor": 2
}
