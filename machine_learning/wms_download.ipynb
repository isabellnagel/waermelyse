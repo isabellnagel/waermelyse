{
 "cells": [
  {
   "cell_type": "code",
   "execution_count": 2,
   "metadata": {},
   "outputs": [
    {
     "name": "stdout",
     "output_type": "stream",
     "text": [
      "Collecting OWSLibNote: you may need to restart the kernel to use updated packages.\n",
      "\n",
      "  Downloading OWSLib-0.31.0-py2.py3-none-any.whl (233 kB)\n",
      "     -------------------------------------- 233.1/233.1 kB 2.4 MB/s eta 0:00:00\n",
      "Collecting pytz\n",
      "  Downloading pytz-2024.2-py2.py3-none-any.whl (508 kB)\n",
      "     -------------------------------------- 508.0/508.0 kB 4.5 MB/s eta 0:00:00\n",
      "Collecting requests>=1.0\n",
      "  Using cached requests-2.31.0-py3-none-any.whl (62 kB)\n",
      "Requirement already satisfied: python-dateutil>=1.5 in c:\\users\\bilge\\anaconda3\\envs\\myenv\\lib\\site-packages (from OWSLib) (2.9.0.post0)\n",
      "Collecting lxml\n",
      "  Downloading lxml-5.3.0-cp37-cp37m-win_amd64.whl (3.8 MB)\n",
      "     ---------------------------------------- 3.8/3.8 MB 11.0 MB/s eta 0:00:00\n",
      "Collecting pyyaml\n",
      "  Downloading PyYAML-6.0.1-cp37-cp37m-win_amd64.whl (153 kB)\n",
      "     ---------------------------------------- 153.2/153.2 kB ? eta 0:00:00\n",
      "Requirement already satisfied: six>=1.5 in c:\\users\\bilge\\anaconda3\\envs\\myenv\\lib\\site-packages (from python-dateutil>=1.5->OWSLib) (1.17.0)\n",
      "Requirement already satisfied: certifi>=2017.4.17 in c:\\users\\bilge\\anaconda3\\envs\\myenv\\lib\\site-packages (from requests>=1.0->OWSLib) (2022.12.7)\n",
      "Collecting idna<4,>=2.5\n",
      "  Downloading idna-3.10-py3-none-any.whl (70 kB)\n",
      "     ---------------------------------------- 70.4/70.4 kB ? eta 0:00:00\n",
      "Collecting charset-normalizer<4,>=2\n",
      "  Downloading charset_normalizer-3.4.1-cp37-cp37m-win_amd64.whl (100 kB)\n",
      "     ---------------------------------------- 100.2/100.2 kB ? eta 0:00:00\n",
      "Collecting urllib3<3,>=1.21.1\n",
      "  Downloading urllib3-2.0.7-py3-none-any.whl (124 kB)\n",
      "     ---------------------------------------- 124.2/124.2 kB ? eta 0:00:00\n",
      "Installing collected packages: pytz, urllib3, pyyaml, lxml, idna, charset-normalizer, requests, OWSLib\n",
      "Successfully installed OWSLib-0.31.0 charset-normalizer-3.4.1 idna-3.10 lxml-5.3.0 pytz-2024.2 pyyaml-6.0.1 requests-2.31.0 urllib3-2.0.7\n"
     ]
    }
   ],
   "source": [
    "pip install OWSLib\n"
   ]
  },
  {
   "cell_type": "code",
   "execution_count": 4,
   "metadata": {},
   "outputs": [
    {
     "name": "stdout",
     "output_type": "stream",
     "text": [
      "Collecting pillow\n",
      "  Downloading Pillow-9.5.0-cp37-cp37m-win_amd64.whl (2.5 MB)\n",
      "     ---------------------------------------- 2.5/2.5 MB 6.2 MB/s eta 0:00:00\n",
      "Installing collected packages: pillow\n",
      "Successfully installed pillow-9.5.0\n",
      "Note: you may need to restart the kernel to use updated packages.\n"
     ]
    }
   ],
   "source": [
    "pip install pillow\n"
   ]
  },
  {
   "cell_type": "code",
   "execution_count": 5,
   "metadata": {},
   "outputs": [],
   "source": [
    "import os\n",
    "from owslib.wms import WebMapService\n",
    "from PIL import Image\n",
    "import requests\n",
    "from io import BytesIO"
   ]
  },
  {
   "cell_type": "markdown",
   "metadata": {},
   "source": [
    "## Python Code zur Nutzung des WMS-Servers\n",
    "\n",
    "In dem folgenden Abschnitt wird der Web Map Service (WMS) von Bremen verwendet, um Karten- und Geodaten zu laden und anzuzeigen. Der Code stellt eine Verbindung zum WMS-Server her, listet verfügbare Layer auf und ruft Informationen zu einem bestimmten Layer ab."
   ]
  },
  {
   "cell_type": "code",
   "execution_count": 6,
   "metadata": {},
   "outputs": [
    {
     "name": "stdout",
     "output_type": "stream",
     "text": [
      "DOP10 2023 Land Bremen DOP10 2023 Land Bremen\n",
      "DOP10_2023_HB DOP10 2023 Bremen\n",
      "DOP10_2023_BHV DOP10 2023 Bremerhaven\n",
      "Bounding Box Layer: (463942.0, 5873090.0, 500928.0, 5898080.0, 'EPSG:25832')\n",
      "Supported CRS: ['EPSG:3857', 'EPSG:4326', 'EPSG:4258', 'EPSG:31467', 'EPSG:25833', 'CRS:84', 'EPSG:25832', 'EPSG:3044']\n"
     ]
    }
   ],
   "source": [
    "# WMS-URL: Die URL, die den Web Map Service des WMS-Servers angibt.\n",
    "wms_url = \"https://geodienste.bremen.de/wms_dop10_2023?language=ger\"\n",
    "\n",
    "# Verbindung zum Server herstellen\n",
    "wms = WebMapService(wms_url)\n",
    "\n",
    "# Verfügbare Layer anzeigen\n",
    "# Der WMS-Server enthält eine Reihe von Karten-Layern, die wir durchlaufen und ausgeben können.\n",
    "# In diesem Fall listen wir die Namen der Layer und deren Titel auf.\n",
    "for layer in wms.contents:\n",
    "    print(layer, wms[layer].title)\n",
    "\n",
    "# Informationen über einen bestimmten Layer abrufen\n",
    "# In diesem Schritt wählen wir einen bestimmten Layer (DOP10_2023_HB) aus und holen uns seine Metadaten.\n",
    "layer_name = \"DOP10_2023_HB\"\n",
    "layer_info = wms[layer_name]\n",
    "# Bounding Box des Layers: Hier erhalten wir die geographischen Grenzen (Eckkoordinaten) des Layers.\n",
    "print(\"Bounding Box Layer:\", layer_info.boundingBox)\n",
    "# Unterstützte CRS (Koordinatenreferenzsysteme): Der WMS-Server kann verschiedene Koordinatensysteme unterstützen. \n",
    "# Wir listen die unterstützten CRS für den ausgewählten Layer auf.\n",
    "print(\"Supported CRS:\", layer_info.crsOptions)"
   ]
  },
  {
   "cell_type": "markdown",
   "metadata": {},
   "source": [
    "## Funktion zum Herunterladen eines Bildes vom WMS-Server\n",
    "\n",
    "In dieser Funktion wird ein Bild von einem WMS-Server heruntergeladen. Die Funktion verwendet die `getmap`-Methode des WMS-Servers, um das Bild in einem gewünschten Format und einer gewünschten Größe abzurufen und es auf der Festplatte zu speichern."
   ]
  },
  {
   "cell_type": "code",
   "execution_count": 7,
   "metadata": {},
   "outputs": [],
   "source": [
    "def download_image(wms, layer, bbox, size, format, filename):\n",
    "    response = wms.getmap(layers=[layer],   # Wählen des Layers, das heruntergeladen werden soll\n",
    "                          styles=[''],      # Stil für das Layer (leer bedeutet standardmäßig)\n",
    "                          srs='EPSG:25832', # Koordinatenreferenzsystem\n",
    "                          bbox=bbox,        # Geographische Begrenzung (Bounding Box) des Bildes\n",
    "                          size=size,        # Größe des Bildes in Pixeln (Breite, Höhe)\n",
    "                          format=format,    # Format des heruntergeladenen Bildes (z.B. 'image/png')\n",
    "                          transparent=True) # Option für transparente Hintergründe (True oder False)\n",
    "    \n",
    "    with open(filename, 'wb') as out:\n",
    "        out.write(response.read())\n",
    "    print(f\"{filename} erfolgreich heruntergeladen.\")"
   ]
  },
  {
   "cell_type": "markdown",
   "metadata": {},
   "source": [
    "## Python-Code zum Herunterladen von Kartenbildern von einem WMS-Server\n",
    "\n",
    "Dieser Code zeigt, wie man mit einem WMS-Server Bilder für ein gesamtes Gebiet oder in kleineren Kacheln herunterladen kann. Die Kacheln sind nützlich, um große Karten in handlichere Teile zu unterteilen, die leichter verarbeitet oder angezeigt werden können."
   ]
  },
  {
   "cell_type": "markdown",
   "metadata": {},
   "source": [
    "# 320x320 Pixel"
   ]
  },
  {
   "cell_type": "code",
   "execution_count": 8,
   "metadata": {},
   "outputs": [
    {
     "name": "stdout",
     "output_type": "stream",
     "text": [
      "Maximale Anzahl von Bildern erreicht.\n",
      "Die ersten 10 Bilder wurden erfolgreich heruntergeladen.\n"
     ]
    }
   ],
   "source": [
    "\n",
    "import os\n",
    "from owslib.wms import WebMapService\n",
    "from PIL import Image\n",
    "from io import BytesIO\n",
    "\n",
    "def download_image(wms, layer, bbox, size, format, filename):\n",
    "    response = wms.getmap(\n",
    "        layers=[layer],\n",
    "        srs='EPSG:25832',\n",
    "        bbox=bbox,\n",
    "        size=size,\n",
    "        format=format,\n",
    "        transparent=True\n",
    "    )\n",
    "    img = Image.open(BytesIO(response.read()))\n",
    "    img.save(filename)\n",
    "\n",
    "# WMS-Server-URL\n",
    "url = \"https://geodienste.bremen.de/wms_dop10_2023\"\n",
    "\n",
    "# Verbindung zum WMS-Server herstellen\n",
    "wms = WebMapService(url, version='1.3.0')\n",
    "\n",
    "# Layer auswählen\n",
    "layer = 'DOP10_2023_HB'\n",
    "\n",
    "# Bounding Box definieren (minx, miny, maxx, maxy)\n",
    "bbox = (488608.7545, 5881989.4935, 490215.9319, 5883625.7616)\n",
    "\n",
    "# Verzeichnis für die Ausgabe erstellen\n",
    "output_dir = \"wms_output_320x320\"\n",
    "os.makedirs(output_dir, exist_ok=True)\n",
    "\n",
    "# Zielgröße der Kacheln in Pixeln\n",
    "tile_size = 320\n",
    "\n",
    "# Zielauflösung in Metern pro Pixel\n",
    "resolution = 0.1  # Beispielwert, bitte anpassen\n",
    "\n",
    "# Breite und Höhe der Bounding Box in Metern\n",
    "bbox_width = bbox[2] - bbox[0]\n",
    "bbox_height = bbox[3] - bbox[1]\n",
    "\n",
    "# Anzahl der Kacheln in x- und y-Richtung\n",
    "num_tiles_x = int(bbox_width / (tile_size * resolution))\n",
    "num_tiles_y = int(bbox_height / (tile_size * resolution))\n",
    "\n",
    "# Breite und Höhe jeder Kachel in Metern\n",
    "tile_width = bbox_width / num_tiles_x\n",
    "tile_height = bbox_height / num_tiles_y\n",
    "\n",
    "\n",
    "for i in range(num_tiles_y):\n",
    "    for j in range(num_tiles_x):\n",
    "        tile_bbox = (\n",
    "            bbox[0] + j * tile_width,\n",
    "            bbox[1] + i * tile_height,\n",
    "            bbox[0] + (j + 1) * tile_width,\n",
    "            bbox[1] + (i + 1) * tile_height\n",
    "        )\n",
    "        \n",
    "        tile_filename = f\"tile_{int(tile_bbox[0])}_{int(tile_bbox[1])}\"\n",
    "        download_image(wms, layer, tile_bbox, (tile_size, tile_size), 'image/tiff', f\"{output_dir}/{tile_filename}_tiff.tiff\")\n",
    "        download_image(wms, layer, tile_bbox, (tile_size, tile_size), 'image/png', f\"{output_dir}/{tile_filename}_png.png\")\n",
    "\n",
    "print(\"Alle Bilder wurden erfolgreich heruntergeladen.\")\n"
   ]
  }
 ],
 "metadata": {
  "kernelspec": {
   "display_name": "myenv",
   "language": "python",
   "name": "python3"
  },
  "language_info": {
   "codemirror_mode": {
    "name": "ipython",
    "version": 3
   },
   "file_extension": ".py",
   "mimetype": "text/x-python",
   "name": "python",
   "nbconvert_exporter": "python",
   "pygments_lexer": "ipython3",
   "version": "3.7.3"
  }
 },
 "nbformat": 4,
 "nbformat_minor": 2
}
